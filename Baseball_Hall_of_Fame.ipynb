{
  "nbformat": 4,
  "nbformat_minor": 0,
  "metadata": {
    "colab": {
      "provenance": [],
      "collapsed_sections": [
        "mtra03PnkmNm",
        "wrHKaZfITbLL",
        "2j8xRL9UgGmo",
        "_ZfwkGLNtVax",
        "qKIBv9E8I4uQ",
        "0ftihVaSexgV"
      ],
      "mount_file_id": "1XWziXiSguEUUDjRdgxwEXk-2NiWb2Pkc",
      "authorship_tag": "ABX9TyMVD74eYmhgMrZ8Th+DbNTr",
      "include_colab_link": true
    },
    "kernelspec": {
      "name": "python3",
      "display_name": "Python 3"
    },
    "language_info": {
      "name": "python"
    }
  },
  "cells": [
    {
      "cell_type": "markdown",
      "metadata": {
        "id": "view-in-github",
        "colab_type": "text"
      },
      "source": [
        "<a href=\"https://colab.research.google.com/github/TakeoFernandez/Create_Task_Final/blob/main/Baseball_Hall_of_Fame.ipynb\" target=\"_parent\"><img src=\"https://colab.research.google.com/assets/colab-badge.svg\" alt=\"Open In Colab\"/></a>"
      ]
    },
    {
      "cell_type": "code",
      "execution_count": null,
      "metadata": {
        "id": "ShjMoz6m7s2v"
      },
      "outputs": [],
      "source": [
        "import numpy as np\n",
        "import pandas as pd\n",
        "import matplotlib as plt\n",
        "import sklearn\n",
        "import copy\n",
        "from sklearn.model_selection import train_test_split,KFold,GridSearchCV,RandomizedSearchCV\n",
        "from sklearn.linear_model import LogisticRegression\n",
        "from sklearn.neighbors import KNeighborsClassifier\n",
        "from sklearn.tree import DecisionTreeClassifier\n",
        "from sklearn.ensemble import RandomForestClassifier\n",
        "from xgboost import XGBClassifier\n",
        "from tensorflow import keras\n",
        "from sklearn.metrics import accuracy_score, confusion_matrix,recall_score, ConfusionMatrixDisplay, f1_score, roc_auc_score\n",
        "from imblearn.over_sampling import SMOTE"
      ]
    },
    {
      "cell_type": "markdown",
      "source": [
        "#Data Cleaning"
      ],
      "metadata": {
        "id": "mtra03PnkmNm"
      }
    },
    {
      "cell_type": "markdown",
      "source": [
        "##Loading the Data"
      ],
      "metadata": {
        "id": "JZMWYhhmqZlf"
      }
    },
    {
      "cell_type": "code",
      "source": [
        "# Importing from google drive\n",
        "from google.colab import drive\n",
        "drive.mount('/content/drive')\n",
        "\n",
        "batting = pd.read_csv(\"/content/drive/MyDrive/archive (1)/Batting.csv\")\n",
        "fielding = pd.read_csv(\"/content/drive/MyDrive/archive (1)/Fielding.csv\")\n",
        "pitching = pd.read_csv(\"/content/drive/MyDrive/archive (1)/Pitching.csv\")\n",
        "halloffame = pd.read_csv(\"/content/drive/MyDrive/archive (1)/HallOfFame.csv\")\n",
        "salaries = pd.read_csv(\"/content/drive/MyDrive/archive (1)/Salaries.csv\")\n",
        "\n",
        "halloffame['yearID'] = halloffame['yearid']\n",
        "halloffame.drop(columns = 'yearid',inplace = True)"
      ],
      "metadata": {
        "colab": {
          "base_uri": "https://localhost:8080/"
        },
        "id": "HYw1pHqao5Fu",
        "outputId": "ef74140e-e33e-4e53-ece6-2927b2a8a2c6"
      },
      "execution_count": null,
      "outputs": [
        {
          "output_type": "stream",
          "name": "stdout",
          "text": [
            "Drive already mounted at /content/drive; to attempt to forcibly remount, call drive.mount(\"/content/drive\", force_remount=True).\n"
          ]
        }
      ]
    },
    {
      "cell_type": "markdown",
      "source": [
        "##Indexing"
      ],
      "metadata": {
        "id": "BOyphFFuqRQj"
      }
    },
    {
      "cell_type": "code",
      "source": [
        "batting.set_index(keys=['playerID','yearID'],inplace=True)\n",
        "fielding.set_index(keys=['playerID','yearID'],inplace=True)\n",
        "pitching.set_index(keys=['playerID','yearID'],inplace=True)\n",
        "halloffame.set_index(keys=['playerID','yearID'],inplace=True)\n",
        "salaries.set_index(keys=['playerID','yearID'],inplace=True)"
      ],
      "metadata": {
        "id": "FDUHky-Vp09U"
      },
      "execution_count": null,
      "outputs": []
    },
    {
      "cell_type": "markdown",
      "source": [
        "##Dropping Columns"
      ],
      "metadata": {
        "id": "0vWPPOs3SgRH"
      }
    },
    {
      "cell_type": "code",
      "source": [
        "# dropping unneccessary columns\n",
        "batting.drop(['teamID','lgID','stint'],axis=1,inplace = True)\n",
        "pitching.drop(['teamID','lgID','stint'],axis=1,inplace = True)\n",
        "fielding.drop(['teamID','lgID','stint'],axis=1,inplace = True)\n",
        "salaries.drop(['teamID','lgID'],axis=1, inplace = True)\n"
      ],
      "metadata": {
        "id": "K0OTNtRs9ToI"
      },
      "execution_count": null,
      "outputs": []
    },
    {
      "cell_type": "code",
      "source": [
        "#Renameing Duplicate Columns(#'BB_x', 'SO_x', 'IBB_x','HBP_x', 'SH_x', 'SF_x', 'GIDP_x,GS_X,WP_X')\n",
        "batting['Caught_Stealing(batter)'] = batting ['CS']\n",
        "fielding['Runners_Caught_Stealing(fielder)'] = fielding['CS']\n",
        "fielding['G(fielding)']= fielding['G']\n",
        "batting['G(batting)'] = batting['G']\n",
        "pitching['G(pitching)'] = pitching['G']\n",
        "batting['R(batting)'] = batting['R']\n",
        "pitching['R(pitching)'] = pitching['R']\n",
        "pitching['Hits_Allowed'] = pitching['H']\n",
        "batting['Hits'] = batting['H']\n",
        "batting['Home Runs'] = batting['HR']\n",
        "pitching['Home Runes Allowed'] = pitching['HR']\n",
        "batting['Bases Stolen'] = batting['SB']\n",
        "fielding['Stolen Bases Allowed'] = fielding['SB']\n",
        "batting['Walked'] = batting['BB']\n",
        "pitching['Walks Allowed'] = pitching['BB']\n",
        "pitching['Batters Struck Out'] = pitching['SO']\n",
        "batting['Strike Outs'] = batting['SO']\n",
        "batting['Walked(intentionally)'] = batting['IBB']\n",
        "pitching['Walks Allowed (intentionally)'] = pitching['IBB']\n",
        "batting['Hit by Pitch'] = batting['HBP']\n",
        "pitching['Batters Hit'] = pitching['HBP']\n",
        "batting['Sacrifice Fly'] = batting['SF']\n",
        "pitching['Sacrifice Flies Allowed'] = pitching['SF']\n",
        "batting['Sacrifice Hit'] = batting ['SH']\n",
        "pitching['Sacrifice Hits Allowed'] = pitching['SH']\n",
        "batting['Ground out into Double Play'] = batting['GIDP']\n",
        "pitching['Ground out into Double Play(pitcher)'] = pitching['GIDP']\n",
        "pitching ['Games Started(Pitching)'] = pitching['GS']\n",
        "fielding ['Games Started(Fielding)'] = fielding['GS']\n",
        "pitching['Wild Pitch(pitcher)'] = pitching['WP']\n",
        "fielding['Wild Pitch(fielding)'] = fielding['WP']\n",
        "#Dropping The Old Columns\n",
        "batting.drop(columns ='CS',inplace=True)\n",
        "fielding.drop(columns ='CS',inplace=True)\n",
        "fielding.drop(columns ='G',inplace=True)\n",
        "batting.drop(columns ='G',inplace=True)\n",
        "pitching.drop(columns ='G',inplace=True)\n",
        "pitching.drop(columns ='R',inplace=True)\n",
        "batting.drop(columns ='R',inplace=True)\n",
        "batting.drop(columns ='H',inplace=True)\n",
        "pitching.drop(columns ='H',inplace=True)\n",
        "pitching.drop(columns ='HR',inplace=True)\n",
        "batting.drop(columns ='HR',inplace=True)\n",
        "fielding.drop(columns ='SB',inplace=True)\n",
        "batting.drop(columns ='SB',inplace=True)\n",
        "batting.drop(columns ='BB',inplace=True)\n",
        "pitching.drop(columns ='BB',inplace=True)\n",
        "batting.drop(columns ='IBB',inplace=True)\n",
        "pitching.drop(columns ='IBB',inplace=True)\n",
        "batting.drop(columns ='HBP',inplace=True)\n",
        "pitching.drop(columns = 'HBP',inplace = True)\n",
        "pitching.drop(columns ='SF',inplace=True)\n",
        "batting.drop(columns ='SF',inplace=True)\n",
        "pitching.drop(columns ='SH',inplace=True)\n",
        "batting.drop(columns ='SH',inplace=True)\n",
        "pitching.drop(columns ='GIDP',inplace=True)\n",
        "batting.drop(columns ='GIDP',inplace=True)\n",
        "pitching.drop(columns ='GS',inplace=True)\n",
        "fielding.drop(columns ='GS',inplace=True)\n",
        "pitching.drop(columns ='WP',inplace=True)\n",
        "fielding.drop(columns ='WP',inplace=True)\n",
        "pitching.drop(columns ='SO',inplace=True)\n",
        "batting.drop(columns ='SO',inplace=True)"
      ],
      "metadata": {
        "id": "TWF9MqeycjKm",
        "colab": {
          "base_uri": "https://localhost:8080/"
        },
        "outputId": "30bb5f14-178c-4a77-d740-a5f5671244a0"
      },
      "execution_count": null,
      "outputs": [
        {
          "output_type": "stream",
          "name": "stdout",
          "text": [
            "Index(['AB', '2B', '3B', 'RBI', 'Caught_Stealing(batter)', 'G(batting)',\n",
            "       'R(batting)', 'Hits', 'Home Runs', 'Bases Stolen', 'Walked',\n",
            "       'Strike Outs', 'Walked(intentionally)', 'Hit by Pitch', 'Sacrifice Fly',\n",
            "       'Sacrifice Hit', 'Ground out into Double Play'],\n",
            "      dtype='object')\n"
          ]
        }
      ]
    },
    {
      "cell_type": "code",
      "source": [
        "#check columns\n",
        "print(pitching.columns)\n",
        "print(fielding.columns)\n",
        "print(halloffame.columns)\n",
        "print(salaries.columns)"
      ],
      "metadata": {
        "colab": {
          "base_uri": "https://localhost:8080/"
        },
        "id": "PG7_vD66MZ6X",
        "outputId": "4e1dd6e4-a7a6-45c5-9914-35731236034e"
      },
      "execution_count": null,
      "outputs": [
        {
          "output_type": "stream",
          "name": "stdout",
          "text": [
            "Index(['W', 'L', 'CG', 'SHO', 'SV', 'IPouts', 'ER', 'BAOpp', 'ERA', 'BK',\n",
            "       'BFP', 'GF', 'G(pitching)', 'R(pitching)', 'Hits_Allowed',\n",
            "       'Home Runes Allowed', 'Walks Allowed', 'Batters Struck Out',\n",
            "       'Walks Allowed (intentionally)', 'Batters Hit',\n",
            "       'Sacrifice Flies Allowed', 'Sacrifice Hits Allowed',\n",
            "       'Ground out into Double Play(pitcher)', 'Games Started(Pitching)',\n",
            "       'Wild Pitch(pitcher)'],\n",
            "      dtype='object')\n",
            "Index(['POS', 'InnOuts', 'PO', 'A', 'E', 'DP', 'PB', 'ZR',\n",
            "       'Runners_Caught_Stealing(fielder)', 'G(fielding)',\n",
            "       'Stolen Bases Allowed', 'Games Started(Fielding)',\n",
            "       'Wild Pitch(fielding)'],\n",
            "      dtype='object')\n",
            "Index(['votedBy', 'ballots', 'needed', 'votes', 'inducted', 'category',\n",
            "       'needed_note'],\n",
            "      dtype='object')\n",
            "Index(['salary'], dtype='object')\n"
          ]
        }
      ]
    },
    {
      "cell_type": "markdown",
      "source": [
        "##Summing Data"
      ],
      "metadata": {
        "id": "fEWmLPujyySY"
      }
    },
    {
      "cell_type": "code",
      "source": [
        "#Create Cumlative Dataframes\n",
        "cumlative_batting = batting[['AB', '2B', '3B', 'RBI','Caught_Stealing(batter)', 'G(batting)',\n",
        "       'R(batting)', 'Hits', 'Home Runs', 'Bases Stolen', 'Walked',\n",
        "       'Strike Outs', 'Walked(intentionally)', 'Hit by Pitch', 'Sacrifice Fly',\n",
        "       'Sacrifice Hit', 'Ground out into Double Play']].groupby('playerID').cumsum()\n",
        "cumlative_pitching = pitching[['W', 'L', 'CG', 'SHO', 'SV', 'IPouts', 'ER','BAOpp', 'BK',\n",
        "       'BFP', 'GF', 'G(pitching)', 'R(pitching)', 'Hits_Allowed',\n",
        "       'Home Runes Allowed', 'Walks Allowed', 'Batters Struck Out',\n",
        "       'Walks Allowed (intentionally)', 'Batters Hit',\n",
        "       'Sacrifice Flies Allowed', 'Sacrifice Hits Allowed',\n",
        "       'Ground out into Double Play(pitcher)', 'Games Started(Pitching)',\n",
        "       'Wild Pitch(pitcher)']].groupby('playerID').cumsum()\n",
        "mean_pitching =  pitching[['ERA',]].groupby('playerID').mean()\n",
        "cumlative_fielding = fielding[['POS', 'InnOuts', 'PO', 'A', 'E', 'DP', 'PB', 'ZR',\n",
        "       'Runners_Caught_Stealing(fielder)', 'G(fielding)',\n",
        "       'Stolen Bases Allowed', 'Games Started(Fielding)',\n",
        "       'Wild Pitch(fielding)']].groupby('playerID').cumsum()\n",
        "cumlative_pitching['ERA'] = pitching['ERA'].copy(deep = True)\n",
        "Final_batting = cumlative_batting.groupby(['playerID','yearID']).sum()\n",
        "Final_pitching = cumlative_pitching.groupby(['playerID','yearID']).sum()\n",
        "Final_fielding = cumlative_fielding.groupby(['playerID','yearID']).sum()"
      ],
      "metadata": {
        "id": "4oNLY7otetV6"
      },
      "execution_count": null,
      "outputs": []
    },
    {
      "cell_type": "markdown",
      "source": [
        "##Merge Data"
      ],
      "metadata": {
        "id": "ydZjPTJPytdv"
      }
    },
    {
      "cell_type": "code",
      "source": [
        "#Merge Dataframes Together\n",
        "mergeData = pd.merge(Final_batting,Final_fielding, how= 'outer',left_index = True, right_index = True)\n",
        "mergeData = pd.merge(mergeData,Final_pitching,how = 'outer',left_index = True, right_index = True)\n",
        "mergeData = pd.merge(mergeData,halloffame['inducted'],how = 'outer',left_index = True, right_index = True)\n",
        "mergeData.fillna(0 ,inplace = True)\n",
        "mergeData = pd.get_dummies(mergeData, columns = ['inducted'])"
      ],
      "metadata": {
        "id": "at1sHnx9V3B7"
      },
      "execution_count": null,
      "outputs": []
    },
    {
      "cell_type": "code",
      "source": [
        "#Double Check Columns\n",
        "print(mergeData.columns)"
      ],
      "metadata": {
        "colab": {
          "base_uri": "https://localhost:8080/"
        },
        "id": "j94UWaF_foPQ",
        "outputId": "60a1fd60-4fc6-4ded-8d9e-9380d789958e"
      },
      "execution_count": null,
      "outputs": [
        {
          "output_type": "stream",
          "name": "stdout",
          "text": [
            "Index(['AB', '2B', '3B', 'RBI', 'Caught_Stealing(batter)', 'G(batting)',\n",
            "       'R(batting)', 'Hits', 'Home Runs', 'Bases Stolen', 'Walked',\n",
            "       'Strike Outs', 'Walked(intentionally)', 'Hit by Pitch', 'Sacrifice Fly',\n",
            "       'Sacrifice Hit', 'Ground out into Double Play', 'InnOuts', 'PO', 'A',\n",
            "       'E', 'DP', 'PB', 'ZR', 'Runners_Caught_Stealing(fielder)',\n",
            "       'G(fielding)', 'Stolen Bases Allowed', 'Games Started(Fielding)',\n",
            "       'Wild Pitch(fielding)', 'W', 'L', 'CG', 'SHO', 'SV', 'IPouts', 'ER',\n",
            "       'BAOpp', 'BK', 'BFP', 'GF', 'G(pitching)', 'R(pitching)',\n",
            "       'Hits_Allowed', 'Home Runes Allowed', 'Walks Allowed',\n",
            "       'Batters Struck Out', 'Walks Allowed (intentionally)', 'Batters Hit',\n",
            "       'Sacrifice Flies Allowed', 'Sacrifice Hits Allowed',\n",
            "       'Ground out into Double Play(pitcher)', 'Games Started(Pitching)',\n",
            "       'Wild Pitch(pitcher)', 'ERA', 'inducted_0', 'inducted_N', 'inducted_Y'],\n",
            "      dtype='object')\n"
          ]
        }
      ]
    },
    {
      "cell_type": "markdown",
      "source": [
        "#Data Analysis"
      ],
      "metadata": {
        "id": "wrHKaZfITbLL"
      }
    },
    {
      "cell_type": "markdown",
      "source": [
        "## Histogram"
      ],
      "metadata": {
        "id": "2j8xRL9UgGmo"
      }
    },
    {
      "cell_type": "code",
      "source": [
        "#Histogram of Number of Hits in a Career\n",
        "bin_list = []\n",
        "data = cumlative_batting['Hits']\n",
        "for number in range(1,14):\n",
        "  item = number * 300\n",
        "  bin_list.append(item)\n",
        "plt.pyplot.title('Number of Hits in a Career')\n",
        "plt.pyplot.hist(x = data,bins = bin_list,color = 'green')"
      ],
      "metadata": {
        "colab": {
          "base_uri": "https://localhost:8080/",
          "height": 368
        },
        "id": "2rLljh-ki8jp",
        "outputId": "4ff0f9b0-4324-4b1e-f473-5d9c46fdff2d"
      },
      "execution_count": null,
      "outputs": [
        {
          "output_type": "execute_result",
          "data": {
            "text/plain": [
              "(array([9.964e+03, 5.947e+03, 4.016e+03, 2.581e+03, 1.575e+03, 9.930e+02,\n",
              "        5.470e+02, 3.030e+02, 1.670e+02, 6.400e+01, 2.200e+01, 9.000e+00]),\n",
              " array([ 300,  600,  900, 1200, 1500, 1800, 2100, 2400, 2700, 3000, 3300,\n",
              "        3600, 3900]),\n",
              " <a list of 12 Patch objects>)"
            ]
          },
          "metadata": {},
          "execution_count": 13
        },
        {
          "output_type": "display_data",
          "data": {
            "text/plain": [
              "<Figure size 432x288 with 1 Axes>"
            ],
            "image/png": "[encoded data removed]"
          },
          "metadata": {
            "needs_background": "light"
          }
        }
      ]
    },
    {
      "cell_type": "code",
      "source": [
        "#Histogram of Number of Homeruns in a Career\n",
        "plt.pyplot.title('Home Runs')\n",
        "plt.pyplot.hist(x= cumlative_batting['Home Runs'])"
      ],
      "metadata": {
        "colab": {
          "base_uri": "https://localhost:8080/",
          "height": 368
        },
        "id": "4K04qRT0HHDM",
        "outputId": "767c18ee-9c6a-4ac1-9c46-e26dad433452"
      },
      "execution_count": null,
      "outputs": [
        {
          "output_type": "execute_result",
          "data": {
            "text/plain": [
              "(array([8.7675e+04, 4.9860e+03, 1.8130e+03, 9.2000e+02, 4.1900e+02,\n",
              "        1.8500e+02, 1.0500e+02, 4.9000e+01, 1.9000e+01, 1.2000e+01]),\n",
              " array([  0. ,  76.2, 152.4, 228.6, 304.8, 381. , 457.2, 533.4, 609.6,\n",
              "        685.8, 762. ]),\n",
              " <a list of 10 Patch objects>)"
            ]
          },
          "metadata": {},
          "execution_count": 14
        },
        {
          "output_type": "display_data",
          "data": {
            "text/plain": [
              "<Figure size 432x288 with 1 Axes>"
            ],
            "image/png": "[encoded data removed]"
          },
          "metadata": {
            "needs_background": "light"
          }
        }
      ]
    },
    {
      "cell_type": "code",
      "source": [
        "#Histogram of Number of Strikeouts in a Career\n",
        "plt.pyplot.title('Strike Outs (Batter)')\n",
        "plt.pyplot.hist(x= cumlative_batting['Strike Outs'])"
      ],
      "metadata": {
        "colab": {
          "base_uri": "https://localhost:8080/",
          "height": 368
        },
        "id": "FYw2cUjoJxaK",
        "outputId": "825d4f7a-589d-4ede-f9f4-02a81c9103e4"
      },
      "execution_count": null,
      "outputs": [
        {
          "output_type": "execute_result",
          "data": {
            "text/plain": [
              "(array([7.2338e+04, 9.4180e+03, 3.6600e+03, 1.6350e+03, 7.7400e+02,\n",
              "        3.4600e+02, 1.1900e+02, 3.5000e+01, 1.0000e+01, 1.0000e+01]),\n",
              " array([   0. ,  259.7,  519.4,  779.1, 1038.8, 1298.5, 1558.2, 1817.9,\n",
              "        2077.6, 2337.3, 2597. ]),\n",
              " <a list of 10 Patch objects>)"
            ]
          },
          "metadata": {},
          "execution_count": 15
        },
        {
          "output_type": "display_data",
          "data": {
            "text/plain": [
              "<Figure size 432x288 with 1 Axes>"
            ],
            "image/png": "[encoded data removed]"
          },
          "metadata": {
            "needs_background": "light"
          }
        }
      ]
    },
    {
      "cell_type": "code",
      "source": [
        "#Histogram of Number of Batters Struckout in a Career\n",
        "plt.pyplot.title('Batters Struck Out')\n",
        "plt.pyplot.hist(x= cumlative_pitching['Batters Struck Out'])"
      ],
      "metadata": {
        "colab": {
          "base_uri": "https://localhost:8080/",
          "height": 368
        },
        "id": "aKLy1iNBJxR7",
        "outputId": "96ea97bd-e8e1-4a45-f03a-f9bfbc736e36"
      },
      "execution_count": null,
      "outputs": [
        {
          "output_type": "execute_result",
          "data": {
            "text/plain": [
              "(array([3.601e+04, 5.678e+03, 1.665e+03, 4.910e+02, 1.760e+02, 6.600e+01,\n",
              "        2.900e+01, 1.300e+01, 7.000e+00, 4.000e+00]),\n",
              " array([   0. ,  571.4, 1142.8, 1714.2, 2285.6, 2857. , 3428.4, 3999.8,\n",
              "        4571.2, 5142.6, 5714. ]),\n",
              " <a list of 10 Patch objects>)"
            ]
          },
          "metadata": {},
          "execution_count": 16
        },
        {
          "output_type": "display_data",
          "data": {
            "text/plain": [
              "<Figure size 432x288 with 1 Axes>"
            ],
            "image/png": "[encoded data removed]"
          },
          "metadata": {
            "needs_background": "light"
          }
        }
      ]
    },
    {
      "cell_type": "code",
      "source": [
        "#Histogram of Number of Games Started in the Field in a Career\n",
        "plt.pyplot.title('Games Started in the Field')\n",
        "plt.pyplot.hist(x= cumlative_fielding['Games Started(Fielding)'])"
      ],
      "metadata": {
        "colab": {
          "base_uri": "https://localhost:8080/",
          "height": 368
        },
        "id": "G88OqiAGJw_N",
        "outputId": "6ff6de09-8c3c-4d1c-d322-f10841ca6837"
      },
      "execution_count": null,
      "outputs": [
        {
          "output_type": "execute_result",
          "data": {
            "text/plain": [
              "(array([5.6929e+04, 9.4650e+03, 4.9120e+03, 2.5410e+03, 9.7000e+02,\n",
              "        5.2200e+02, 2.7200e+02, 1.5200e+02, 6.9000e+01, 1.7000e+01]),\n",
              " array([   0. ,  571.2, 1142.4, 1713.6, 2284.8, 2856. , 3427.2, 3998.4,\n",
              "        4569.6, 5140.8, 5712. ]),\n",
              " <a list of 10 Patch objects>)"
            ]
          },
          "metadata": {},
          "execution_count": 18
        },
        {
          "output_type": "display_data",
          "data": {
            "text/plain": [
              "<Figure size 432x288 with 1 Axes>"
            ],
            "image/png": "[encoded data removed]"
          },
          "metadata": {
            "needs_background": "light"
          }
        }
      ]
    },
    {
      "cell_type": "code",
      "source": [
        "#Histogram of Number of Wild Pitches in a Career\n",
        "plt.pyplot.title('Wild Pitches')\n",
        "plt.pyplot.hist(x= cumlative_pitching['Wild Pitch(pitcher)'])"
      ],
      "metadata": {
        "colab": {
          "base_uri": "https://localhost:8080/",
          "height": 368
        },
        "id": "tudNbNQnJw2P",
        "outputId": "65ada9cf-e372-4c2a-bf1a-90445ce20316"
      },
      "execution_count": null,
      "outputs": [
        {
          "output_type": "execute_result",
          "data": {
            "text/plain": [
              "(array([3.5542e+04, 5.8850e+03, 1.6570e+03, 5.3500e+02, 2.0500e+02,\n",
              "        9.9000e+01, 4.0000e+01, 2.4000e+01, 1.1000e+01, 8.0000e+00]),\n",
              " array([  0. ,  27.7,  55.4,  83.1, 110.8, 138.5, 166.2, 193.9, 221.6,\n",
              "        249.3, 277. ]),\n",
              " <a list of 10 Patch objects>)"
            ]
          },
          "metadata": {},
          "execution_count": 19
        },
        {
          "output_type": "display_data",
          "data": {
            "text/plain": [
              "<Figure size 432x288 with 1 Axes>"
            ],
            "image/png": "[encoded data removed]"
          },
          "metadata": {
            "needs_background": "light"
          }
        }
      ]
    },
    {
      "cell_type": "code",
      "source": [
        "#Histogram of Number of Bases Stolen Allowed in a Career\n",
        "plt.pyplot.title('Stolen Bases Allowed')\n",
        "plt.pyplot.hist(x= cumlative_fielding['Stolen Bases Allowed'])"
      ],
      "metadata": {
        "colab": {
          "base_uri": "https://localhost:8080/",
          "height": 368
        },
        "id": "bt3YGNurJuDT",
        "outputId": "60486cdc-b4cf-4943-f0d2-3c420e60d381"
      },
      "execution_count": null,
      "outputs": [
        {
          "output_type": "execute_result",
          "data": {
            "text/plain": [
              "(array([3.884e+03, 1.052e+03, 5.160e+02, 2.780e+02, 1.430e+02, 7.100e+01,\n",
              "        4.300e+01, 2.300e+01, 1.100e+01, 3.000e+00]),\n",
              " array([   0. ,  149.8,  299.6,  449.4,  599.2,  749. ,  898.8, 1048.6,\n",
              "        1198.4, 1348.2, 1498. ]),\n",
              " <a list of 10 Patch objects>)"
            ]
          },
          "metadata": {},
          "execution_count": 20
        },
        {
          "output_type": "display_data",
          "data": {
            "text/plain": [
              "<Figure size 432x288 with 1 Axes>"
            ],
            "image/png": "[encoded data removed]"
          },
          "metadata": {
            "needs_background": "light"
          }
        }
      ]
    },
    {
      "cell_type": "markdown",
      "source": [
        "##Pie Chart"
      ],
      "metadata": {
        "id": "_ZfwkGLNtVax"
      }
    },
    {
      "cell_type": "code",
      "source": [
        "#This needs further investigation\n",
        "# Pie chart, where the slices will be ordered and plotted counter-clockwise:\n",
        "labels = 'Batting Over Average','Batting Average','Batting Under Average','Batting NaN'\n",
        "sizes = [len(cumlative_batting.query('Hits/AB > 0.250'))/len(cumlative_batting),len(cumlative_batting.query('0.250 >= Hits/AB >= 0.150 '))/len(cumlative_batting),len(cumlative_batting.query('Hits < 0.150'))/len(cumlative_batting),len(cumlative_batting.query('Hits/AB != Hits/AB'))/len(cumlative_batting)]\n",
        "\n",
        "\n",
        "fig1, ax1 = plt.pyplot.subplots()\n",
        "ax1.pie(sizes, labels=labels, autopct='%1.1f%%',\n",
        "        shadow=True, startangle=90)\n",
        "ax1.axis('equal')\n"
      ],
      "metadata": {
        "colab": {
          "base_uri": "https://localhost:8080/",
          "height": 319
        },
        "id": "AvDGLzFUsrJF",
        "outputId": "88ae3c4a-b7b4-4d41-9b3e-069ecdec982e"
      },
      "execution_count": null,
      "outputs": [
        {
          "output_type": "execute_result",
          "data": {
            "text/plain": [
              "(-1.1180010635214828,\n",
              " 1.1071237046790696,\n",
              " -1.1161805388583534,\n",
              " 1.1007705018503977)"
            ]
          },
          "metadata": {},
          "execution_count": 45
        },
        {
          "output_type": "display_data",
          "data": {
            "text/plain": [
              "<Figure size 432x288 with 1 Axes>"
            ],
            "image/png": "[encoded data removed]"
          },
          "metadata": {}
        }
      ]
    },
    {
      "cell_type": "markdown",
      "source": [
        "##Scatter Plots and 2D Histograms"
      ],
      "metadata": {
        "id": "qKIBv9E8I4uQ"
      }
    },
    {
      "cell_type": "code",
      "source": [
        "#Scatterplot of Pitcher Wins Comapred to Pitcher Losses\n",
        "plt.pyplot.title('Pitcher Wins Compared to Pitcher Losses')\n",
        "plt.pyplot.scatter(x=mergeData.query('W>0')['W'],y=mergeData.query('W>0')['L'])"
      ],
      "metadata": {
        "colab": {
          "base_uri": "https://localhost:8080/",
          "height": 298
        },
        "id": "fjaleShuI4VE",
        "outputId": "b86f6455-1fb0-461b-cf44-b1bc43749951"
      },
      "execution_count": null,
      "outputs": [
        {
          "output_type": "execute_result",
          "data": {
            "text/plain": [
              "<matplotlib.collections.PathCollection at 0x7f358b3f36d0>"
            ]
          },
          "metadata": {},
          "execution_count": 23
        },
        {
          "output_type": "display_data",
          "data": {
            "text/plain": [
              "<Figure size 432x288 with 1 Axes>"
            ],
            "image/png": "[encoded data removed]"
          },
          "metadata": {
            "needs_background": "light"
          }
        }
      ]
    },
    {
      "cell_type": "code",
      "source": [
        "#2D Histogram of Hits Allowed Compared to Pitcher Losses\n",
        "plt.pyplot.title('Hits Allowed vs Pitcher Losses')\n",
        "plt.pyplot.hist2d(x=pitching['Hits_Allowed']/pitching['G(pitching)'],y=pitching['L'],bins = 20,norm = plt.colors.LogNorm())\n",
        "plt.pyplot.colorbar()\n",
        "plt.pyplot.xlabel('Hits Allowed Per Games')\n",
        "plt.pyplot.ylabel('Pitcher Losses')"
      ],
      "metadata": {
        "id": "8HSYL9RpJUEA",
        "colab": {
          "base_uri": "https://localhost:8080/",
          "height": 312
        },
        "outputId": "bf072a2e-0323-4c5a-c052-51ebfd43e65e"
      },
      "execution_count": null,
      "outputs": [
        {
          "output_type": "execute_result",
          "data": {
            "text/plain": [
              "Text(0, 0.5, 'Pitcher Losses')"
            ]
          },
          "metadata": {},
          "execution_count": 24
        },
        {
          "output_type": "display_data",
          "data": {
            "text/plain": [
              "<Figure size 432x288 with 2 Axes>"
            ],
            "image/png": "[encoded data removed]"
          },
          "metadata": {
            "needs_background": "light"
          }
        }
      ]
    },
    {
      "cell_type": "code",
      "source": [
        "#2D Histogram of Hits Allowed Compared to Pitcher Wins\n",
        "plt.pyplot.title('Hits Allowed vs Pitcher Wins')\n",
        "plt.pyplot.hist2d(x=pitching['Hits_Allowed']/pitching['G(pitching)'],y=pitching['W'],bins = 20,norm = plt.colors.LogNorm())\n",
        "plt.pyplot.colorbar()\n",
        "plt.pyplot.xlabel('Hits Allowed Per Games')\n",
        "plt.pyplot.ylabel('Pitcher Wins')"
      ],
      "metadata": {
        "colab": {
          "base_uri": "https://localhost:8080/",
          "height": 312
        },
        "id": "iZRWrP5afwP2",
        "outputId": "11a86f1b-8ae3-4c33-dee6-3e00e1ce4830"
      },
      "execution_count": null,
      "outputs": [
        {
          "output_type": "execute_result",
          "data": {
            "text/plain": [
              "Text(0, 0.5, 'Pitcher Wins')"
            ]
          },
          "metadata": {},
          "execution_count": 25
        },
        {
          "output_type": "display_data",
          "data": {
            "text/plain": [
              "<Figure size 432x288 with 2 Axes>"
            ],
            "image/png": "[encoded data removed]"
          },
          "metadata": {
            "needs_background": "light"
          }
        }
      ]
    },
    {
      "cell_type": "code",
      "source": [
        "#Corrilaton Matrix\n",
        "mergeData.corr()"
      ],
      "metadata": {
        "id": "9jTZF7Wc5tD6",
        "colab": {
          "base_uri": "https://localhost:8080/",
          "height": 1000
        },
        "outputId": "56a49d0a-4d29-4a82-b863-50f9bf4a9f94"
      },
      "execution_count": null,
      "outputs": [
        {
          "output_type": "execute_result",
          "data": {
            "text/plain": [
              "                                            AB        2B        3B       RBI  \\\n",
              "AB                                    1.000000  0.974030  0.830133  0.956682   \n",
              "2B                                    0.974030  1.000000  0.805017  0.968225   \n",
              "3B                                    0.830133  0.805017  1.000000  0.785867   \n",
              "RBI                                   0.956682  0.968225  0.785867  1.000000   \n",
              "Caught_Stealing(batter)               0.707765  0.687102  0.544908  0.620894   \n",
              "G(batting)                            0.964124  0.933642  0.774084  0.918401   \n",
              "R(batting)                            0.976599  0.967725  0.857159  0.959450   \n",
              "Hits                                  0.994465  0.981541  0.850319  0.963967   \n",
              "Home Runs                             0.781473  0.815880  0.491695  0.885881   \n",
              "Bases Stolen                          0.688203  0.640844  0.740084  0.599042   \n",
              "Walked                                0.920590  0.914253  0.735331  0.919651   \n",
              "Strike Outs                           0.827668  0.826563  0.507060  0.830793   \n",
              "Walked(intentionally)                 0.641093  0.655504  0.318326  0.686943   \n",
              "Hit by Pitch                          0.746932  0.746653  0.611136  0.737968   \n",
              "Sacrifice Fly                         0.741232  0.751380  0.365879  0.748206   \n",
              "Sacrifice Hit                         0.598668  0.532528  0.649673  0.484083   \n",
              "Ground out into Double Play           0.795436  0.798076  0.420754  0.790431   \n",
              "InnOuts                               0.570538  0.543682  0.343562  0.529096   \n",
              "PO                                    0.710734  0.688040  0.558424  0.693794   \n",
              "A                                     0.557381  0.506633  0.443942  0.457022   \n",
              "E                                     0.609800  0.552408  0.599933  0.547600   \n",
              "DP                                    0.597055  0.568276  0.447212  0.531277   \n",
              "PB                                    0.145948  0.128611  0.110113  0.135746   \n",
              "ZR                                    0.116584  0.098367  0.025638  0.108491   \n",
              "Runners_Caught_Stealing(fielder)      0.166269  0.159206  0.023938  0.156359   \n",
              "G(fielding)                           0.716314  0.694998  0.518156  0.676596   \n",
              "Stolen Bases Allowed                  0.160809  0.157133  0.016953  0.152641   \n",
              "Games Started(Fielding)               0.478931  0.438073  0.308621  0.438348   \n",
              "Wild Pitch(fielding)                  0.128796  0.111842  0.024267  0.119204   \n",
              "W                                    -0.100937 -0.130486 -0.106247 -0.120737   \n",
              "L                                    -0.120438 -0.149019 -0.123707 -0.139526   \n",
              "CG                                   -0.031287 -0.066457 -0.036659 -0.057020   \n",
              "SHO                                  -0.053060 -0.084127 -0.065122 -0.076406   \n",
              "SV                                   -0.084507 -0.084189 -0.074331 -0.080557   \n",
              "IPouts                               -0.112761 -0.142193 -0.116777 -0.132408   \n",
              "ER                                   -0.126350 -0.153177 -0.128869 -0.143283   \n",
              "BAOpp                                -0.141462 -0.156171 -0.128686 -0.147156   \n",
              "BK                                   -0.115649 -0.124926 -0.114839 -0.119738   \n",
              "BFP                                  -0.118076 -0.144892 -0.123929 -0.136233   \n",
              "GF                                   -0.129449 -0.130407 -0.114116 -0.124728   \n",
              "G(pitching)                          -0.164275 -0.179421 -0.155075 -0.170220   \n",
              "R(pitching)                          -0.115762 -0.145209 -0.117101 -0.134824   \n",
              "Hits_Allowed                         -0.113064 -0.142555 -0.116892 -0.132604   \n",
              "Home Runes Allowed                   -0.135407 -0.153083 -0.139694 -0.145581   \n",
              "Walks Allowed                        -0.132246 -0.157872 -0.133364 -0.147606   \n",
              "Batters Struck Out                   -0.124513 -0.147528 -0.127317 -0.139205   \n",
              "Walks Allowed (intentionally)        -0.137034 -0.144136 -0.133702 -0.138833   \n",
              "Batters Hit                          -0.124603 -0.146245 -0.121731 -0.137994   \n",
              "Sacrifice Flies Allowed              -0.089879 -0.089192 -0.084184 -0.087633   \n",
              "Sacrifice Hits Allowed               -0.079172 -0.080509 -0.077475 -0.079425   \n",
              "Ground out into Double Play(pitcher) -0.027718 -0.026355 -0.024067 -0.025809   \n",
              "Games Started(Pitching)              -0.095568 -0.125062 -0.104276 -0.116372   \n",
              "Wild Pitch(pitcher)                  -0.119319 -0.141763 -0.113529 -0.132858   \n",
              "ERA                                  -0.224884 -0.219015 -0.188330 -0.210919   \n",
              "inducted_0                            0.114005  0.102163  0.089115  0.098491   \n",
              "inducted_N                           -0.109394 -0.098056 -0.085587 -0.094604   \n",
              "inducted_Y                           -0.030849 -0.027559 -0.023852 -0.026322   \n",
              "\n",
              "                                      Caught_Stealing(batter)  G(batting)  \\\n",
              "AB                                                   0.707765    0.964124   \n",
              "2B                                                   0.687102    0.933642   \n",
              "3B                                                   0.544908    0.774084   \n",
              "RBI                                                  0.620894    0.918401   \n",
              "Caught_Stealing(batter)                              1.000000    0.687031   \n",
              "G(batting)                                           0.687031    1.000000   \n",
              "R(batting)                                           0.695405    0.929312   \n",
              "Hits                                                 0.702152    0.951814   \n",
              "Home Runs                                            0.548152    0.759791   \n",
              "Bases Stolen                                         0.698182    0.638876   \n",
              "Walked                                               0.681060    0.896121   \n",
              "Strike Outs                                          0.695068    0.828852   \n",
              "Walked(intentionally)                                0.540796    0.634891   \n",
              "Hit by Pitch                                         0.505276    0.717823   \n",
              "Sacrifice Fly                                        0.666633    0.733759   \n",
              "Sacrifice Hit                                        0.385053    0.603429   \n",
              "Ground out into Double Play                          0.629387    0.787622   \n",
              "InnOuts                                              0.652757    0.580092   \n",
              "PO                                                   0.573364    0.698637   \n",
              "A                                                    0.408979    0.545839   \n",
              "E                                                    0.362665    0.573781   \n",
              "DP                                                   0.441273    0.584373   \n",
              "PB                                                   0.000668    0.142776   \n",
              "ZR                                                   0.057525    0.126905   \n",
              "Runners_Caught_Stealing(fielder)                     0.075142    0.179022   \n",
              "G(fielding)                                          0.694106    0.727175   \n",
              "Stolen Bases Allowed                                 0.068410    0.173764   \n",
              "Games Started(Fielding)                              0.570515    0.485488   \n",
              "Wild Pitch(fielding)                                 0.059633    0.141917   \n",
              "W                                                   -0.125956    0.031430   \n",
              "L                                                   -0.137948    0.022125   \n",
              "CG                                                  -0.086269    0.019231   \n",
              "SHO                                                 -0.090426    0.022919   \n",
              "SV                                                  -0.064251    0.074199   \n",
              "IPouts                                              -0.134240    0.025099   \n",
              "ER                                                  -0.140273    0.017048   \n",
              "BAOpp                                               -0.133618   -0.016036   \n",
              "BK                                                  -0.100356    0.010333   \n",
              "BFP                                                 -0.133420    0.026534   \n",
              "GF                                                  -0.101065    0.067325   \n",
              "G(pitching)                                         -0.149938    0.052817   \n",
              "R(pitching)                                         -0.137748    0.016132   \n",
              "Hits_Allowed                                        -0.135009    0.022322   \n",
              "Home Runes Allowed                                  -0.129247    0.022281   \n",
              "Walks Allowed                                       -0.141717    0.015542   \n",
              "Batters Struck Out                                  -0.130420    0.031168   \n",
              "Walks Allowed (intentionally)                       -0.110477    0.049293   \n",
              "Batters Hit                                         -0.129429    0.011162   \n",
              "Sacrifice Flies Allowed                             -0.068361   -0.003804   \n",
              "Sacrifice Hits Allowed                              -0.063161    0.001648   \n",
              "Ground out into Double Play(pitcher)                -0.019313   -0.015089   \n",
              "Games Started(Pitching)                             -0.119932    0.011189   \n",
              "Wild Pitch(pitcher)                                 -0.129315    0.020158   \n",
              "ERA                                                 -0.169407   -0.169356   \n",
              "inducted_0                                           0.073057    0.141369   \n",
              "inducted_N                                          -0.070230   -0.135645   \n",
              "inducted_Y                                          -0.019328   -0.038274   \n",
              "\n",
              "                                      R(batting)      Hits  Home Runs  \\\n",
              "AB                                      0.976599  0.994465   0.781473   \n",
              "2B                                      0.967725  0.981541   0.815880   \n",
              "3B                                      0.857159  0.850319   0.491695   \n",
              "RBI                                     0.959450  0.963967   0.885881   \n",
              "Caught_Stealing(batter)                 0.695405  0.702152   0.548152   \n",
              "G(batting)                              0.929312  0.951814   0.759791   \n",
              "R(batting)                              1.000000  0.985155   0.796635   \n",
              "Hits                                    0.985155  1.000000   0.781365   \n",
              "Home Runs                               0.796635  0.781365   1.000000   \n",
              "Bases Stolen                            0.737977  0.696638   0.384584   \n",
              "Walked                                  0.938804  0.920031   0.826491   \n",
              "Strike Outs                             0.794002  0.800987   0.877522   \n",
              "Walked(intentionally)                   0.622184  0.635411   0.794299   \n",
              "Hit by Pitch                            0.754666  0.746323   0.625613   \n",
              "Sacrifice Fly                           0.698295  0.724215   0.813094   \n",
              "Sacrifice Hit                           0.548741  0.589107   0.194940   \n",
              "Ground out into Double Play             0.735261  0.780033   0.807612   \n",
              "InnOuts                                 0.537137  0.553584   0.560921   \n",
              "PO                                      0.686200  0.704484   0.610771   \n",
              "A                                       0.509451  0.533082   0.288679   \n",
              "E                                       0.606844  0.596823   0.335159   \n",
              "DP                                      0.554726  0.581457   0.402311   \n",
              "PB                                      0.114145  0.133771   0.063043   \n",
              "ZR                                      0.075241  0.103087   0.109022   \n",
              "Runners_Caught_Stealing(fielder)        0.113767  0.150724   0.158759   \n",
              "G(fielding)                             0.694514  0.702109   0.640594   \n",
              "Stolen Bases Allowed                    0.109504  0.145909   0.156617   \n",
              "Games Started(Fielding)                 0.446335  0.464110   0.459759   \n",
              "Wild Pitch(fielding)                    0.081659  0.113797   0.119593   \n",
              "W                                      -0.125317 -0.123819  -0.117258   \n",
              "L                                      -0.144440 -0.143084  -0.130478   \n",
              "CG                                     -0.057004 -0.054973  -0.075041   \n",
              "SHO                                    -0.080138 -0.076266  -0.081843   \n",
              "SV                                     -0.083773 -0.085738  -0.063859   \n",
              "IPouts                                 -0.137098 -0.135783  -0.126032   \n",
              "ER                                     -0.148849 -0.147946  -0.132722   \n",
              "BAOpp                                  -0.151945 -0.153972  -0.128408   \n",
              "BK                                     -0.125798 -0.125493  -0.099101   \n",
              "BFP                                    -0.142177 -0.140197  -0.126067   \n",
              "GF                                     -0.129498 -0.132221  -0.100201   \n",
              "G(pitching)                            -0.176604 -0.178190  -0.145452   \n",
              "R(pitching)                            -0.138636 -0.138336  -0.129339   \n",
              "Hits_Allowed                           -0.137223 -0.135941  -0.126844   \n",
              "Home Runes Allowed                     -0.152429 -0.152143  -0.124282   \n",
              "Walks Allowed                          -0.153845 -0.153160  -0.134263   \n",
              "Batters Struck Out                     -0.144948 -0.144263  -0.124180   \n",
              "Walks Allowed (intentionally)          -0.144379 -0.146158  -0.109498   \n",
              "Batters Hit                            -0.143096 -0.142739  -0.123770   \n",
              "Sacrifice Flies Allowed                -0.091237 -0.092625  -0.068110   \n",
              "Sacrifice Hits Allowed                 -0.082907 -0.083542  -0.062400   \n",
              "Ground out into Double Play(pitcher)   -0.026726 -0.027516  -0.019560   \n",
              "Games Started(Pitching)                -0.120906 -0.118816  -0.112130   \n",
              "Wild Pitch(pitcher)                    -0.135917 -0.137635  -0.121753   \n",
              "ERA                                    -0.216396 -0.223767  -0.168019   \n",
              "inducted_0                              0.102497  0.106995   0.073136   \n",
              "inducted_N                             -0.098434 -0.102680  -0.070368   \n",
              "inducted_Y                             -0.027455 -0.028910  -0.019137   \n",
              "\n",
              "                                      Bases Stolen  ...  Batters Hit  \\\n",
              "AB                                        0.688203  ...    -0.124603   \n",
              "2B                                        0.640844  ...    -0.146245   \n",
              "3B                                        0.740084  ...    -0.121731   \n",
              "RBI                                       0.599042  ...    -0.137994   \n",
              "Caught_Stealing(batter)                   0.698182  ...    -0.129429   \n",
              "G(batting)                                0.638876  ...     0.011162   \n",
              "R(batting)                                0.737977  ...    -0.143096   \n",
              "Hits                                      0.696638  ...    -0.142739   \n",
              "Home Runs                                 0.384584  ...    -0.123770   \n",
              "Bases Stolen                              1.000000  ...    -0.112406   \n",
              "Walked                                    0.643090  ...    -0.139081   \n",
              "Strike Outs                               0.468632  ...    -0.066204   \n",
              "Walked(intentionally)                     0.316022  ...    -0.105894   \n",
              "Hit by Pitch                              0.580948  ...    -0.119046   \n",
              "Sacrifice Fly                             0.393142  ...    -0.119709   \n",
              "Sacrifice Hit                             0.499934  ...     0.106428   \n",
              "Ground out into Double Play               0.350962  ...    -0.125043   \n",
              "InnOuts                                   0.400178  ...    -0.086688   \n",
              "PO                                        0.474541  ...    -0.136839   \n",
              "A                                         0.379697  ...    -0.056098   \n",
              "E                                         0.502694  ...    -0.094362   \n",
              "DP                                        0.350550  ...    -0.105036   \n",
              "PB                                        0.044610  ...    -0.060663   \n",
              "ZR                                       -0.006027  ...    -0.036465   \n",
              "Runners_Caught_Stealing(fielder)         -0.004325  ...    -0.053122   \n",
              "G(fielding)                               0.532070  ...    -0.089352   \n",
              "Stolen Bases Allowed                     -0.007134  ...    -0.054280   \n",
              "Games Started(Fielding)                   0.342152  ...    -0.075783   \n",
              "Wild Pitch(fielding)                     -0.010092  ...    -0.045380   \n",
              "W                                        -0.107759  ...     0.838664   \n",
              "L                                        -0.119958  ...     0.851200   \n",
              "CG                                       -0.060426  ...     0.633259   \n",
              "SHO                                      -0.076223  ...     0.693820   \n",
              "SV                                       -0.060487  ...     0.235761   \n",
              "IPouts                                   -0.115622  ...     0.853282   \n",
              "ER                                       -0.122641  ...     0.854259   \n",
              "BAOpp                                    -0.115263  ...     0.593039   \n",
              "BK                                       -0.095988  ...     0.576391   \n",
              "BFP                                      -0.118821  ...     0.842850   \n",
              "GF                                       -0.094375  ...     0.357505   \n",
              "G(pitching)                              -0.136297  ...     0.742750   \n",
              "R(pitching)                              -0.116265  ...     0.838851   \n",
              "Hits_Allowed                             -0.116050  ...     0.845262   \n",
              "Home Runes Allowed                       -0.120806  ...     0.784461   \n",
              "Walks Allowed                            -0.124508  ...     0.845463   \n",
              "Batters Struck Out                       -0.116775  ...     0.848071   \n",
              "Walks Allowed (intentionally)            -0.107098  ...     0.576833   \n",
              "Batters Hit                              -0.112406  ...     1.000000   \n",
              "Sacrifice Flies Allowed                  -0.065519  ...     0.443041   \n",
              "Sacrifice Hits Allowed                   -0.060609  ...     0.432836   \n",
              "Ground out into Double Play(pitcher)     -0.018545  ...     0.077247   \n",
              "Games Started(Pitching)                  -0.103976  ...     0.833269   \n",
              "Wild Pitch(pitcher)                      -0.108356  ...     0.767998   \n",
              "ERA                                      -0.152957  ...     0.269212   \n",
              "inducted_0                                0.069748  ...     0.078500   \n",
              "inducted_N                               -0.066920  ...    -0.075288   \n",
              "inducted_Y                               -0.018900  ...    -0.021367   \n",
              "\n",
              "                                      Sacrifice Flies Allowed  \\\n",
              "AB                                                  -0.089879   \n",
              "2B                                                  -0.089192   \n",
              "3B                                                  -0.084184   \n",
              "RBI                                                 -0.087633   \n",
              "Caught_Stealing(batter)                             -0.068361   \n",
              "G(batting)                                          -0.003804   \n",
              "R(batting)                                          -0.091237   \n",
              "Hits                                                -0.092625   \n",
              "Home Runs                                           -0.068110   \n",
              "Bases Stolen                                        -0.065519   \n",
              "Walked                                              -0.085877   \n",
              "Strike Outs                                         -0.051404   \n",
              "Walked(intentionally)                               -0.054673   \n",
              "Hit by Pitch                                        -0.073263   \n",
              "Sacrifice Fly                                       -0.062950   \n",
              "Sacrifice Hit                                        0.039343   \n",
              "Ground out into Double Play                         -0.068127   \n",
              "InnOuts                                             -0.043067   \n",
              "PO                                                  -0.073371   \n",
              "A                                                   -0.049025   \n",
              "E                                                   -0.066769   \n",
              "DP                                                  -0.058037   \n",
              "PB                                                  -0.031310   \n",
              "ZR                                                  -0.018797   \n",
              "Runners_Caught_Stealing(fielder)                    -0.027383   \n",
              "G(fielding)                                         -0.049976   \n",
              "Stolen Bases Allowed                                -0.027980   \n",
              "Games Started(Fielding)                             -0.051560   \n",
              "Wild Pitch(fielding)                                -0.023393   \n",
              "W                                                    0.288047   \n",
              "L                                                    0.303737   \n",
              "CG                                                  -0.005490   \n",
              "SHO                                                  0.052209   \n",
              "SV                                                   0.116631   \n",
              "IPouts                                               0.294208   \n",
              "ER                                                   0.357250   \n",
              "BAOpp                                                0.253102   \n",
              "BK                                                   0.233953   \n",
              "BFP                                                  0.313027   \n",
              "GF                                                   0.162783   \n",
              "G(pitching)                                          0.363707   \n",
              "R(pitching)                                          0.315491   \n",
              "Hits_Allowed                                         0.303632   \n",
              "Home Runes Allowed                                   0.471442   \n",
              "Walks Allowed                                        0.307334   \n",
              "Batters Struck Out                                   0.400338   \n",
              "Walks Allowed (intentionally)                        0.311495   \n",
              "Batters Hit                                          0.443041   \n",
              "Sacrifice Flies Allowed                              1.000000   \n",
              "Sacrifice Hits Allowed                               0.923891   \n",
              "Ground out into Double Play(pitcher)                 0.201946   \n",
              "Games Started(Pitching)                              0.323733   \n",
              "Wild Pitch(pitcher)                                  0.306042   \n",
              "ERA                                                  0.159287   \n",
              "inducted_0                                           0.040827   \n",
              "inducted_N                                          -0.039186   \n",
              "inducted_Y                                          -0.011014   \n",
              "\n",
              "                                      Sacrifice Hits Allowed  \\\n",
              "AB                                                 -0.079172   \n",
              "2B                                                 -0.080509   \n",
              "3B                                                 -0.077475   \n",
              "RBI                                                -0.079425   \n",
              "Caught_Stealing(batter)                            -0.063161   \n",
              "G(batting)                                          0.001648   \n",
              "R(batting)                                         -0.082907   \n",
              "Hits                                               -0.083542   \n",
              "Home Runs                                          -0.062400   \n",
              "Bases Stolen                                       -0.060609   \n",
              "Walked                                             -0.078203   \n",
              "Strike Outs                                        -0.037641   \n",
              "Walked(intentionally)                              -0.050677   \n",
              "Hit by Pitch                                       -0.066818   \n",
              "Sacrifice Fly                                      -0.056844   \n",
              "Sacrifice Hit                                       0.064397   \n",
              "Ground out into Double Play                        -0.060556   \n",
              "InnOuts                                            -0.038832   \n",
              "PO                                                 -0.067763   \n",
              "A                                                  -0.043836   \n",
              "E                                                  -0.061369   \n",
              "DP                                                 -0.053271   \n",
              "PB                                                 -0.029017   \n",
              "ZR                                                 -0.017420   \n",
              "Runners_Caught_Stealing(fielder)                   -0.025379   \n",
              "G(fielding)                                        -0.044959   \n",
              "Stolen Bases Allowed                               -0.025932   \n",
              "Games Started(Fielding)                            -0.047783   \n",
              "Wild Pitch(fielding)                               -0.021679   \n",
              "W                                                   0.289180   \n",
              "L                                                   0.300819   \n",
              "CG                                                 -0.001147   \n",
              "SHO                                                 0.058372   \n",
              "SV                                                  0.123633   \n",
              "IPouts                                              0.293038   \n",
              "ER                                                  0.349416   \n",
              "BAOpp                                               0.241691   \n",
              "BK                                                  0.234209   \n",
              "BFP                                                 0.311037   \n",
              "GF                                                  0.160275   \n",
              "G(pitching)                                         0.354275   \n",
              "R(pitching)                                         0.309196   \n",
              "Hits_Allowed                                        0.300833   \n",
              "Home Runes Allowed                                  0.454937   \n",
              "Walks Allowed                                       0.305074   \n",
              "Batters Struck Out                                  0.401020   \n",
              "Walks Allowed (intentionally)                       0.321853   \n",
              "Batters Hit                                         0.432836   \n",
              "Sacrifice Flies Allowed                             0.923891   \n",
              "Sacrifice Hits Allowed                              1.000000   \n",
              "Ground out into Double Play(pitcher)                0.177063   \n",
              "Games Started(Pitching)                             0.323350   \n",
              "Wild Pitch(pitcher)                                 0.297188   \n",
              "ERA                                                 0.141469   \n",
              "inducted_0                                          0.037830   \n",
              "inducted_N                                         -0.036308   \n",
              "inducted_Y                                         -0.010207   \n",
              "\n",
              "                                      Ground out into Double Play(pitcher)  \\\n",
              "AB                                                               -0.027718   \n",
              "2B                                                               -0.026355   \n",
              "3B                                                               -0.024067   \n",
              "RBI                                                              -0.025809   \n",
              "Caught_Stealing(batter)                                          -0.019313   \n",
              "G(batting)                                                       -0.015089   \n",
              "R(batting)                                                       -0.026726   \n",
              "Hits                                                             -0.027516   \n",
              "Home Runs                                                        -0.019560   \n",
              "Bases Stolen                                                     -0.018545   \n",
              "Walked                                                           -0.024985   \n",
              "Strike Outs                                                      -0.019502   \n",
              "Walked(intentionally)                                            -0.015371   \n",
              "Hit by Pitch                                                     -0.021381   \n",
              "Sacrifice Fly                                                    -0.018517   \n",
              "Sacrifice Hit                                                    -0.005664   \n",
              "Ground out into Double Play                                      -0.021004   \n",
              "InnOuts                                                          -0.013637   \n",
              "PO                                                               -0.020941   \n",
              "A                                                                -0.015824   \n",
              "E                                                                -0.019826   \n",
              "DP                                                               -0.017012   \n",
              "PB                                                               -0.008795   \n",
              "ZR                                                               -0.005288   \n",
              "Runners_Caught_Stealing(fielder)                                 -0.007682   \n",
              "G(fielding)                                                      -0.017793   \n",
              "Stolen Bases Allowed                                             -0.007821   \n",
              "Games Started(Fielding)                                          -0.014505   \n",
              "Wild Pitch(fielding)                                             -0.006581   \n",
              "W                                                                 0.045359   \n",
              "L                                                                 0.047867   \n",
              "CG                                                               -0.008394   \n",
              "SHO                                                               0.001767   \n",
              "SV                                                                0.011578   \n",
              "IPouts                                                            0.046023   \n",
              "ER                                                                0.052373   \n",
              "BAOpp                                                             0.043611   \n",
              "BK                                                                0.028381   \n",
              "BFP                                                               0.048755   \n",
              "GF                                                                0.016485   \n",
              "G(pitching)                                                       0.054286   \n",
              "R(pitching)                                                       0.045261   \n",
              "Hits_Allowed                                                      0.045726   \n",
              "Home Runes Allowed                                                0.071358   \n",
              "Walks Allowed                                                     0.044661   \n",
              "Batters Struck Out                                                0.072914   \n",
              "Walks Allowed (intentionally)                                     0.036221   \n",
              "Batters Hit                                                       0.077247   \n",
              "Sacrifice Flies Allowed                                           0.201946   \n",
              "Sacrifice Hits Allowed                                            0.177063   \n",
              "Ground out into Double Play(pitcher)                              1.000000   \n",
              "Games Started(Pitching)                                           0.054663   \n",
              "Wild Pitch(pitcher)                                               0.056762   \n",
              "ERA                                                               0.029319   \n",
              "inducted_0                                                        0.011486   \n",
              "inducted_N                                                       -0.011024   \n",
              "inducted_Y                                                       -0.003098   \n",
              "\n",
              "                                      Games Started(Pitching)  \\\n",
              "AB                                                  -0.095568   \n",
              "2B                                                  -0.125062   \n",
              "3B                                                  -0.104276   \n",
              "RBI                                                 -0.116372   \n",
              "Caught_Stealing(batter)                             -0.119932   \n",
              "G(batting)                                           0.011189   \n",
              "R(batting)                                          -0.120906   \n",
              "Hits                                                -0.118816   \n",
              "Home Runs                                           -0.112130   \n",
              "Bases Stolen                                        -0.103976   \n",
              "Walked                                              -0.121364   \n",
              "Strike Outs                                         -0.029343   \n",
              "Walked(intentionally)                               -0.099022   \n",
              "Hit by Pitch                                        -0.107882   \n",
              "Sacrifice Fly                                       -0.106865   \n",
              "Sacrifice Hit                                        0.156497   \n",
              "Ground out into Double Play                         -0.106101   \n",
              "InnOuts                                             -0.076767   \n",
              "PO                                                  -0.125950   \n",
              "A                                                   -0.039020   \n",
              "E                                                   -0.074420   \n",
              "DP                                                  -0.094569   \n",
              "PB                                                  -0.056712   \n",
              "ZR                                                  -0.034096   \n",
              "Runners_Caught_Stealing(fielder)                    -0.049673   \n",
              "G(fielding)                                         -0.082222   \n",
              "Stolen Bases Allowed                                -0.050756   \n",
              "Games Started(Fielding)                             -0.061774   \n",
              "Wild Pitch(fielding)                                -0.042432   \n",
              "W                                                    0.963894   \n",
              "L                                                    0.956808   \n",
              "CG                                                   0.794933   \n",
              "SHO                                                  0.865661   \n",
              "SV                                                   0.099151   \n",
              "IPouts                                               0.971960   \n",
              "ER                                                   0.965230   \n",
              "BAOpp                                                0.592004   \n",
              "BK                                                   0.632033   \n",
              "BFP                                                  0.957689   \n",
              "GF                                                   0.187233   \n",
              "G(pitching)                                          0.690790   \n",
              "R(pitching)                                          0.958839   \n",
              "Hits_Allowed                                         0.969545   \n",
              "Home Runes Allowed                                   0.879308   \n",
              "Walks Allowed                                        0.928225   \n",
              "Batters Struck Out                                   0.920066   \n",
              "Walks Allowed (intentionally)                        0.557748   \n",
              "Batters Hit                                          0.833269   \n",
              "Sacrifice Flies Allowed                              0.323733   \n",
              "Sacrifice Hits Allowed                               0.323350   \n",
              "Ground out into Double Play(pitcher)                 0.054663   \n",
              "Games Started(Pitching)                              1.000000   \n",
              "Wild Pitch(pitcher)                                  0.836553   \n",
              "ERA                                                  0.244644   \n",
              "inducted_0                                           0.072588   \n",
              "inducted_N                                          -0.069554   \n",
              "inducted_Y                                          -0.019978   \n",
              "\n",
              "                                      Wild Pitch(pitcher)       ERA  \\\n",
              "AB                                              -0.119319 -0.224884   \n",
              "2B                                              -0.141763 -0.219015   \n",
              "3B                                              -0.113529 -0.188330   \n",
              "RBI                                             -0.132858 -0.210919   \n",
              "Caught_Stealing(batter)                         -0.129315 -0.169407   \n",
              "G(batting)                                       0.020158 -0.169356   \n",
              "R(batting)                                      -0.135917 -0.216396   \n",
              "Hits                                            -0.137635 -0.223767   \n",
              "Home Runs                                       -0.121753 -0.168019   \n",
              "Bases Stolen                                    -0.108356 -0.152957   \n",
              "Walked                                          -0.136954 -0.206555   \n",
              "Strike Outs                                     -0.060890 -0.179820   \n",
              "Walked(intentionally)                           -0.105213 -0.133741   \n",
              "Hit by Pitch                                    -0.120647 -0.179110   \n",
              "Sacrifice Fly                                   -0.118152 -0.165348   \n",
              "Sacrifice Hit                                    0.075722 -0.100768   \n",
              "Ground out into Double Play                     -0.124699 -0.181740   \n",
              "InnOuts                                         -0.084632 -0.133062   \n",
              "PO                                              -0.134168 -0.175707   \n",
              "A                                               -0.052596 -0.124666   \n",
              "E                                               -0.075312 -0.145167   \n",
              "DP                                              -0.103783 -0.141789   \n",
              "PB                                              -0.059829 -0.074470   \n",
              "ZR                                              -0.036230 -0.047254   \n",
              "Runners_Caught_Stealing(fielder)                -0.052777 -0.068419   \n",
              "G(fielding)                                     -0.083333 -0.157094   \n",
              "Stolen Bases Allowed                            -0.053927 -0.069829   \n",
              "Games Started(Fielding)                         -0.070507 -0.114688   \n",
              "Wild Pitch(fielding)                            -0.045088 -0.058731   \n",
              "W                                                0.851571  0.247115   \n",
              "L                                                0.866501  0.290205   \n",
              "CG                                               0.689323  0.157827   \n",
              "SHO                                              0.704218  0.159620   \n",
              "SV                                               0.275717  0.119058   \n",
              "IPouts                                           0.870220  0.271657   \n",
              "ER                                               0.860562  0.303852   \n",
              "BAOpp                                            0.594164  0.323221   \n",
              "BK                                               0.611239  0.216228   \n",
              "BFP                                              0.853497  0.274565   \n",
              "GF                                               0.389813  0.210505   \n",
              "G(pitching)                                      0.764639  0.318380   \n",
              "R(pitching)                                      0.870472  0.294358   \n",
              "Hits_Allowed                                     0.855612  0.280392   \n",
              "Home Runes Allowed                               0.775432  0.284875   \n",
              "Walks Allowed                                    0.882041  0.301812   \n",
              "Batters Struck Out                               0.876994  0.258862   \n",
              "Walks Allowed (intentionally)                    0.633496  0.234657   \n",
              "Batters Hit                                      0.767998  0.269212   \n",
              "Sacrifice Flies Allowed                          0.306042  0.159287   \n",
              "Sacrifice Hits Allowed                           0.297188  0.141469   \n",
              "Ground out into Double Play(pitcher)             0.056762  0.029319   \n",
              "Games Started(Pitching)                          0.836553  0.244644   \n",
              "Wild Pitch(pitcher)                              1.000000  0.272218   \n",
              "ERA                                              0.272218  1.000000   \n",
              "inducted_0                                       0.077884  0.102887   \n",
              "inducted_N                                      -0.074689 -0.098731   \n",
              "inducted_Y                                      -0.021229 -0.027823   \n",
              "\n",
              "                                      inducted_0  inducted_N  inducted_Y  \n",
              "AB                                      0.114005   -0.109394   -0.030849  \n",
              "2B                                      0.102163   -0.098056   -0.027559  \n",
              "3B                                      0.089115   -0.085587   -0.023852  \n",
              "RBI                                     0.098491   -0.094604   -0.026322  \n",
              "Caught_Stealing(batter)                 0.073057   -0.070230   -0.019328  \n",
              "G(batting)                              0.141369   -0.135645   -0.038274  \n",
              "R(batting)                              0.102497   -0.098434   -0.027455  \n",
              "Hits                                    0.106995   -0.102680   -0.028910  \n",
              "Home Runs                               0.073136   -0.070368   -0.019137  \n",
              "Bases Stolen                            0.069748   -0.066920   -0.018900  \n",
              "Walked                                  0.095865   -0.092139   -0.025424  \n",
              "Strike Outs                             0.104893   -0.100675   -0.028300  \n",
              "Walked(intentionally)                   0.058759   -0.056395   -0.015858  \n",
              "Hit by Pitch                            0.084262   -0.080889   -0.022683  \n",
              "Sacrifice Fly                           0.075583   -0.072541   -0.020399  \n",
              "Sacrifice Hit                           0.095434   -0.091479   -0.026152  \n",
              "Ground out into Double Play             0.085836   -0.082316   -0.023392  \n",
              "InnOuts                                 0.066180   -0.063516   -0.017863  \n",
              "PO                                      0.080738   -0.077577   -0.021489  \n",
              "A                                       0.070788   -0.067830   -0.019481  \n",
              "E                                       0.082721   -0.079345   -0.022488  \n",
              "DP                                      0.067108   -0.064446   -0.017980  \n",
              "PB                                      0.032911   -0.031529   -0.009080  \n",
              "ZR                                      0.020207   -0.019394   -0.005451  \n",
              "Runners_Caught_Stealing(fielder)        0.029438   -0.028255   -0.007942  \n",
              "G(fielding)                             0.090280   -0.086623   -0.024449  \n",
              "Stolen Bases Allowed                    0.030080   -0.028871   -0.008115  \n",
              "Games Started(Fielding)                 0.055414   -0.053185   -0.014952  \n",
              "Wild Pitch(fielding)                    0.025147   -0.024136   -0.006784  \n",
              "W                                       0.075900   -0.072716   -0.020930  \n",
              "L                                       0.083129   -0.079676   -0.022807  \n",
              "CG                                      0.051788   -0.049567   -0.014448  \n",
              "SHO                                     0.055061   -0.052718   -0.015296  \n",
              "SV                                      0.038030   -0.036475   -0.010350  \n",
              "IPouts                                  0.080904   -0.077529   -0.022246  \n",
              "ER                                      0.084468   -0.080959   -0.023175  \n",
              "BAOpp                                   0.080227   -0.076937   -0.021865  \n",
              "BK                                      0.060636   -0.058125   -0.016610  \n",
              "BFP                                     0.080457   -0.077096   -0.022139  \n",
              "GF                                      0.060047   -0.057599   -0.016315  \n",
              "G(pitching)                             0.089774   -0.086081   -0.024504  \n",
              "R(pitching)                             0.082914   -0.079471   -0.022745  \n",
              "Hits_Allowed                            0.081305   -0.077915   -0.022350  \n",
              "Home Runes Allowed                      0.077944   -0.074723   -0.021328  \n",
              "Walks Allowed                           0.085383   -0.081834   -0.023432  \n",
              "Batters Struck Out                      0.078691   -0.075423   -0.021587  \n",
              "Walks Allowed (intentionally)           0.067101   -0.064388   -0.018157  \n",
              "Batters Hit                             0.078500   -0.075288   -0.021367  \n",
              "Sacrifice Flies Allowed                 0.040827   -0.039186   -0.011014  \n",
              "Sacrifice Hits Allowed                  0.037830   -0.036308   -0.010207  \n",
              "Ground out into Double Play(pitcher)    0.011486   -0.011024   -0.003098  \n",
              "Games Started(Pitching)                 0.072588   -0.069554   -0.019978  \n",
              "Wild Pitch(pitcher)                     0.077884   -0.074689   -0.021229  \n",
              "ERA                                     0.102887   -0.098731   -0.027823  \n",
              "inducted_0                              1.000000   -0.959797   -0.269770  \n",
              "inducted_N                             -0.959797    1.000000   -0.011364  \n",
              "inducted_Y                             -0.269770   -0.011364    1.000000  \n",
              "\n",
              "[57 rows x 57 columns]"
            ],
            "text/html": [
              "\n",
              "  <div id=\"df-854ffba6-8c72-4e06-873b-417007a17f61\">\n",
              "    <div class=\"colab-df-container\">\n",
              "      <div>\n",
              "<style scoped>\n",
              "    .dataframe tbody tr th:only-of-type {\n",
              "        vertical-align: middle;\n",
              "    }\n",
              "\n",
              "    .dataframe tbody tr th {\n",
              "        vertical-align: top;\n",
              "    }\n",
              "\n",
              "    .dataframe thead th {\n",
              "        text-align: right;\n",
              "    }\n",
              "</style>\n",
              "<table border=\"1\" class=\"dataframe\">\n",
              "  <thead>\n",
              "    <tr style=\"text-align: right;\">\n",
              "      <th></th>\n",
              "      <th>AB</th>\n",
              "      <th>2B</th>\n",
              "      <th>3B</th>\n",
              "      <th>RBI</th>\n",
              "      <th>Caught_Stealing(batter)</th>\n",
              "      <th>G(batting)</th>\n",
              "      <th>R(batting)</th>\n",
              "      <th>Hits</th>\n",
              "      <th>Home Runs</th>\n",
              "      <th>Bases Stolen</th>\n",
              "      <th>...</th>\n",
              "      <th>Batters Hit</th>\n",
              "      <th>Sacrifice Flies Allowed</th>\n",
              "      <th>Sacrifice Hits Allowed</th>\n",
              "      <th>Ground out into Double Play(pitcher)</th>\n",
              "      <th>Games Started(Pitching)</th>\n",
              "      <th>Wild Pitch(pitcher)</th>\n",
              "      <th>ERA</th>\n",
              "      <th>inducted_0</th>\n",
              "      <th>inducted_N</th>\n",
              "      <th>inducted_Y</th>\n",
              "    </tr>\n",
              "  </thead>\n",
              "  <tbody>\n",
              "    <tr>\n",
              "      <th>AB</th>\n",
              "      <td>1.000000</td>\n",
              "      <td>0.974030</td>\n",
              "      <td>0.830133</td>\n",
              "      <td>0.956682</td>\n",
              "      <td>0.707765</td>\n",
              "      <td>0.964124</td>\n",
              "      <td>0.976599</td>\n",
              "      <td>0.994465</td>\n",
              "      <td>0.781473</td>\n",
              "      <td>0.688203</td>\n",
              "      <td>...</td>\n",
              "      <td>-0.124603</td>\n",
              "      <td>-0.089879</td>\n",
              "      <td>-0.079172</td>\n",
              "      <td>-0.027718</td>\n",
              "      <td>-0.095568</td>\n",
              "      <td>-0.119319</td>\n",
              "      <td>-0.224884</td>\n",
              "      <td>0.114005</td>\n",
              "      <td>-0.109394</td>\n",
              "      <td>-0.030849</td>\n",
              "    </tr>\n",
              "    <tr>\n",
              "      <th>2B</th>\n",
              "      <td>0.974030</td>\n",
              "      <td>1.000000</td>\n",
              "      <td>0.805017</td>\n",
              "      <td>0.968225</td>\n",
              "      <td>0.687102</td>\n",
              "      <td>0.933642</td>\n",
              "      <td>0.967725</td>\n",
              "      <td>0.981541</td>\n",
              "      <td>0.815880</td>\n",
              "      <td>0.640844</td>\n",
              "      <td>...</td>\n",
              "      <td>-0.146245</td>\n",
              "      <td>-0.089192</td>\n",
              "      <td>-0.080509</td>\n",
              "      <td>-0.026355</td>\n",
              "      <td>-0.125062</td>\n",
              "      <td>-0.141763</td>\n",
              "      <td>-0.219015</td>\n",
              "      <td>0.102163</td>\n",
              "      <td>-0.098056</td>\n",
              "      <td>-0.027559</td>\n",
              "    </tr>\n",
              "    <tr>\n",
              "      <th>3B</th>\n",
              "      <td>0.830133</td>\n",
              "      <td>0.805017</td>\n",
              "      <td>1.000000</td>\n",
              "      <td>0.785867</td>\n",
              "      <td>0.544908</td>\n",
              "      <td>0.774084</td>\n",
              "      <td>0.857159</td>\n",
              "      <td>0.850319</td>\n",
              "      <td>0.491695</td>\n",
              "      <td>0.740084</td>\n",
              "      <td>...</td>\n",
              "      <td>-0.121731</td>\n",
              "      <td>-0.084184</td>\n",
              "      <td>-0.077475</td>\n",
              "      <td>-0.024067</td>\n",
              "      <td>-0.104276</td>\n",
              "      <td>-0.113529</td>\n",
              "      <td>-0.188330</td>\n",
              "      <td>0.089115</td>\n",
              "      <td>-0.085587</td>\n",
              "      <td>-0.023852</td>\n",
              "    </tr>\n",
              "    <tr>\n",
              "      <th>RBI</th>\n",
              "      <td>0.956682</td>\n",
              "      <td>0.968225</td>\n",
              "      <td>0.785867</td>\n",
              "      <td>1.000000</td>\n",
              "      <td>0.620894</td>\n",
              "      <td>0.918401</td>\n",
              "      <td>0.959450</td>\n",
              "      <td>0.963967</td>\n",
              "      <td>0.885881</td>\n",
              "      <td>0.599042</td>\n",
              "      <td>...</td>\n",
              "      <td>-0.137994</td>\n",
              "      <td>-0.087633</td>\n",
              "      <td>-0.079425</td>\n",
              "      <td>-0.025809</td>\n",
              "      <td>-0.116372</td>\n",
              "      <td>-0.132858</td>\n",
              "      <td>-0.210919</td>\n",
              "      <td>0.098491</td>\n",
              "      <td>-0.094604</td>\n",
              "      <td>-0.026322</td>\n",
              "    </tr>\n",
              "    <tr>\n",
              "      <th>Caught_Stealing(batter)</th>\n",
              "      <td>0.707765</td>\n",
              "      <td>0.687102</td>\n",
              "      <td>0.544908</td>\n",
              "      <td>0.620894</td>\n",
              "      <td>1.000000</td>\n",
              "      <td>0.687031</td>\n",
              "      <td>0.695405</td>\n",
              "      <td>0.702152</td>\n",
              "      <td>0.548152</td>\n",
              "      <td>0.698182</td>\n",
              "      <td>...</td>\n",
              "      <td>-0.129429</td>\n",
              "      <td>-0.068361</td>\n",
              "      <td>-0.063161</td>\n",
              "      <td>-0.019313</td>\n",
              "      <td>-0.119932</td>\n",
              "      <td>-0.129315</td>\n",
              "      <td>-0.169407</td>\n",
              "      <td>0.073057</td>\n",
              "      <td>-0.070230</td>\n",
              "      <td>-0.019328</td>\n",
              "    </tr>\n",
              "    <tr>\n",
              "      <th>G(batting)</th>\n",
              "      <td>0.964124</td>\n",
              "      <td>0.933642</td>\n",
              "      <td>0.774084</td>\n",
              "      <td>0.918401</td>\n",
              "      <td>0.687031</td>\n",
              "      <td>1.000000</td>\n",
              "      <td>0.929312</td>\n",
              "      <td>0.951814</td>\n",
              "      <td>0.759791</td>\n",
              "      <td>0.638876</td>\n",
              "      <td>...</td>\n",
              "      <td>0.011162</td>\n",
              "      <td>-0.003804</td>\n",
              "      <td>0.001648</td>\n",
              "      <td>-0.015089</td>\n",
              "      <td>0.011189</td>\n",
              "      <td>0.020158</td>\n",
              "      <td>-0.169356</td>\n",
              "      <td>0.141369</td>\n",
              "      <td>-0.135645</td>\n",
              "      <td>-0.038274</td>\n",
              "    </tr>\n",
              "    <tr>\n",
              "      <th>R(batting)</th>\n",
              "      <td>0.976599</td>\n",
              "      <td>0.967725</td>\n",
              "      <td>0.857159</td>\n",
              "      <td>0.959450</td>\n",
              "      <td>0.695405</td>\n",
              "      <td>0.929312</td>\n",
              "      <td>1.000000</td>\n",
              "      <td>0.985155</td>\n",
              "      <td>0.796635</td>\n",
              "      <td>0.737977</td>\n",
              "      <td>...</td>\n",
              "      <td>-0.143096</td>\n",
              "      <td>-0.091237</td>\n",
              "      <td>-0.082907</td>\n",
              "      <td>-0.026726</td>\n",
              "      <td>-0.120906</td>\n",
              "      <td>-0.135917</td>\n",
              "      <td>-0.216396</td>\n",
              "      <td>0.102497</td>\n",
              "      <td>-0.098434</td>\n",
              "      <td>-0.027455</td>\n",
              "    </tr>\n",
              "    <tr>\n",
              "      <th>Hits</th>\n",
              "      <td>0.994465</td>\n",
              "      <td>0.981541</td>\n",
              "      <td>0.850319</td>\n",
              "      <td>0.963967</td>\n",
              "      <td>0.702152</td>\n",
              "      <td>0.951814</td>\n",
              "      <td>0.985155</td>\n",
              "      <td>1.000000</td>\n",
              "      <td>0.781365</td>\n",
              "      <td>0.696638</td>\n",
              "      <td>...</td>\n",
              "      <td>-0.142739</td>\n",
              "      <td>-0.092625</td>\n",
              "      <td>-0.083542</td>\n",
              "      <td>-0.027516</td>\n",
              "      <td>-0.118816</td>\n",
              "      <td>-0.137635</td>\n",
              "      <td>-0.223767</td>\n",
              "      <td>0.106995</td>\n",
              "      <td>-0.102680</td>\n",
              "      <td>-0.028910</td>\n",
              "    </tr>\n",
              "    <tr>\n",
              "      <th>Home Runs</th>\n",
              "      <td>0.781473</td>\n",
              "      <td>0.815880</td>\n",
              "      <td>0.491695</td>\n",
              "      <td>0.885881</td>\n",
              "      <td>0.548152</td>\n",
              "      <td>0.759791</td>\n",
              "      <td>0.796635</td>\n",
              "      <td>0.781365</td>\n",
              "      <td>1.000000</td>\n",
              "      <td>0.384584</td>\n",
              "      <td>...</td>\n",
              "      <td>-0.123770</td>\n",
              "      <td>-0.068110</td>\n",
              "      <td>-0.062400</td>\n",
              "      <td>-0.019560</td>\n",
              "      <td>-0.112130</td>\n",
              "      <td>-0.121753</td>\n",
              "      <td>-0.168019</td>\n",
              "      <td>0.073136</td>\n",
              "      <td>-0.070368</td>\n",
              "      <td>-0.019137</td>\n",
              "    </tr>\n",
              "    <tr>\n",
              "      <th>Bases Stolen</th>\n",
              "      <td>0.688203</td>\n",
              "      <td>0.640844</td>\n",
              "      <td>0.740084</td>\n",
              "      <td>0.599042</td>\n",
              "      <td>0.698182</td>\n",
              "      <td>0.638876</td>\n",
              "      <td>0.737977</td>\n",
              "      <td>0.696638</td>\n",
              "      <td>0.384584</td>\n",
              "      <td>1.000000</td>\n",
              "      <td>...</td>\n",
              "      <td>-0.112406</td>\n",
              "      <td>-0.065519</td>\n",
              "      <td>-0.060609</td>\n",
              "      <td>-0.018545</td>\n",
              "      <td>-0.103976</td>\n",
              "      <td>-0.108356</td>\n",
              "      <td>-0.152957</td>\n",
              "      <td>0.069748</td>\n",
              "      <td>-0.066920</td>\n",
              "      <td>-0.018900</td>\n",
              "    </tr>\n",
              "    <tr>\n",
              "      <th>Walked</th>\n",
              "      <td>0.920590</td>\n",
              "      <td>0.914253</td>\n",
              "      <td>0.735331</td>\n",
              "      <td>0.919651</td>\n",
              "      <td>0.681060</td>\n",
              "      <td>0.896121</td>\n",
              "      <td>0.938804</td>\n",
              "      <td>0.920031</td>\n",
              "      <td>0.826491</td>\n",
              "      <td>0.643090</td>\n",
              "      <td>...</td>\n",
              "      <td>-0.139081</td>\n",
              "      <td>-0.085877</td>\n",
              "      <td>-0.078203</td>\n",
              "      <td>-0.024985</td>\n",
              "      <td>-0.121364</td>\n",
              "      <td>-0.136954</td>\n",
              "      <td>-0.206555</td>\n",
              "      <td>0.095865</td>\n",
              "      <td>-0.092139</td>\n",
              "      <td>-0.025424</td>\n",
              "    </tr>\n",
              "    <tr>\n",
              "      <th>Strike Outs</th>\n",
              "      <td>0.827668</td>\n",
              "      <td>0.826563</td>\n",
              "      <td>0.507060</td>\n",
              "      <td>0.830793</td>\n",
              "      <td>0.695068</td>\n",
              "      <td>0.828852</td>\n",
              "      <td>0.794002</td>\n",
              "      <td>0.800987</td>\n",
              "      <td>0.877522</td>\n",
              "      <td>0.468632</td>\n",
              "      <td>...</td>\n",
              "      <td>-0.066204</td>\n",
              "      <td>-0.051404</td>\n",
              "      <td>-0.037641</td>\n",
              "      <td>-0.019502</td>\n",
              "      <td>-0.029343</td>\n",
              "      <td>-0.060890</td>\n",
              "      <td>-0.179820</td>\n",
              "      <td>0.104893</td>\n",
              "      <td>-0.100675</td>\n",
              "      <td>-0.028300</td>\n",
              "    </tr>\n",
              "    <tr>\n",
              "      <th>Walked(intentionally)</th>\n",
              "      <td>0.641093</td>\n",
              "      <td>0.655504</td>\n",
              "      <td>0.318326</td>\n",
              "      <td>0.686943</td>\n",
              "      <td>0.540796</td>\n",
              "      <td>0.634891</td>\n",
              "      <td>0.622184</td>\n",
              "      <td>0.635411</td>\n",
              "      <td>0.794299</td>\n",
              "      <td>0.316022</td>\n",
              "      <td>...</td>\n",
              "      <td>-0.105894</td>\n",
              "      <td>-0.054673</td>\n",
              "      <td>-0.050677</td>\n",
              "      <td>-0.015371</td>\n",
              "      <td>-0.099022</td>\n",
              "      <td>-0.105213</td>\n",
              "      <td>-0.133741</td>\n",
              "      <td>0.058759</td>\n",
              "      <td>-0.056395</td>\n",
              "      <td>-0.015858</td>\n",
              "    </tr>\n",
              "    <tr>\n",
              "      <th>Hit by Pitch</th>\n",
              "      <td>0.746932</td>\n",
              "      <td>0.746653</td>\n",
              "      <td>0.611136</td>\n",
              "      <td>0.737968</td>\n",
              "      <td>0.505276</td>\n",
              "      <td>0.717823</td>\n",
              "      <td>0.754666</td>\n",
              "      <td>0.746323</td>\n",
              "      <td>0.625613</td>\n",
              "      <td>0.580948</td>\n",
              "      <td>...</td>\n",
              "      <td>-0.119046</td>\n",
              "      <td>-0.073263</td>\n",
              "      <td>-0.066818</td>\n",
              "      <td>-0.021381</td>\n",
              "      <td>-0.107882</td>\n",
              "      <td>-0.120647</td>\n",
              "      <td>-0.179110</td>\n",
              "      <td>0.084262</td>\n",
              "      <td>-0.080889</td>\n",
              "      <td>-0.022683</td>\n",
              "    </tr>\n",
              "    <tr>\n",
              "      <th>Sacrifice Fly</th>\n",
              "      <td>0.741232</td>\n",
              "      <td>0.751380</td>\n",
              "      <td>0.365879</td>\n",
              "      <td>0.748206</td>\n",
              "      <td>0.666633</td>\n",
              "      <td>0.733759</td>\n",
              "      <td>0.698295</td>\n",
              "      <td>0.724215</td>\n",
              "      <td>0.813094</td>\n",
              "      <td>0.393142</td>\n",
              "      <td>...</td>\n",
              "      <td>-0.119709</td>\n",
              "      <td>-0.062950</td>\n",
              "      <td>-0.056844</td>\n",
              "      <td>-0.018517</td>\n",
              "      <td>-0.106865</td>\n",
              "      <td>-0.118152</td>\n",
              "      <td>-0.165348</td>\n",
              "      <td>0.075583</td>\n",
              "      <td>-0.072541</td>\n",
              "      <td>-0.020399</td>\n",
              "    </tr>\n",
              "    <tr>\n",
              "      <th>Sacrifice Hit</th>\n",
              "      <td>0.598668</td>\n",
              "      <td>0.532528</td>\n",
              "      <td>0.649673</td>\n",
              "      <td>0.484083</td>\n",
              "      <td>0.385053</td>\n",
              "      <td>0.603429</td>\n",
              "      <td>0.548741</td>\n",
              "      <td>0.589107</td>\n",
              "      <td>0.194940</td>\n",
              "      <td>0.499934</td>\n",
              "      <td>...</td>\n",
              "      <td>0.106428</td>\n",
              "      <td>0.039343</td>\n",
              "      <td>0.064397</td>\n",
              "      <td>-0.005664</td>\n",
              "      <td>0.156497</td>\n",
              "      <td>0.075722</td>\n",
              "      <td>-0.100768</td>\n",
              "      <td>0.095434</td>\n",
              "      <td>-0.091479</td>\n",
              "      <td>-0.026152</td>\n",
              "    </tr>\n",
              "    <tr>\n",
              "      <th>Ground out into Double Play</th>\n",
              "      <td>0.795436</td>\n",
              "      <td>0.798076</td>\n",
              "      <td>0.420754</td>\n",
              "      <td>0.790431</td>\n",
              "      <td>0.629387</td>\n",
              "      <td>0.787622</td>\n",
              "      <td>0.735261</td>\n",
              "      <td>0.780033</td>\n",
              "      <td>0.807612</td>\n",
              "      <td>0.350962</td>\n",
              "      <td>...</td>\n",
              "      <td>-0.125043</td>\n",
              "      <td>-0.068127</td>\n",
              "      <td>-0.060556</td>\n",
              "      <td>-0.021004</td>\n",
              "      <td>-0.106101</td>\n",
              "      <td>-0.124699</td>\n",
              "      <td>-0.181740</td>\n",
              "      <td>0.085836</td>\n",
              "      <td>-0.082316</td>\n",
              "      <td>-0.023392</td>\n",
              "    </tr>\n",
              "    <tr>\n",
              "      <th>InnOuts</th>\n",
              "      <td>0.570538</td>\n",
              "      <td>0.543682</td>\n",
              "      <td>0.343562</td>\n",
              "      <td>0.529096</td>\n",
              "      <td>0.652757</td>\n",
              "      <td>0.580092</td>\n",
              "      <td>0.537137</td>\n",
              "      <td>0.553584</td>\n",
              "      <td>0.560921</td>\n",
              "      <td>0.400178</td>\n",
              "      <td>...</td>\n",
              "      <td>-0.086688</td>\n",
              "      <td>-0.043067</td>\n",
              "      <td>-0.038832</td>\n",
              "      <td>-0.013637</td>\n",
              "      <td>-0.076767</td>\n",
              "      <td>-0.084632</td>\n",
              "      <td>-0.133062</td>\n",
              "      <td>0.066180</td>\n",
              "      <td>-0.063516</td>\n",
              "      <td>-0.017863</td>\n",
              "    </tr>\n",
              "    <tr>\n",
              "      <th>PO</th>\n",
              "      <td>0.710734</td>\n",
              "      <td>0.688040</td>\n",
              "      <td>0.558424</td>\n",
              "      <td>0.693794</td>\n",
              "      <td>0.573364</td>\n",
              "      <td>0.698637</td>\n",
              "      <td>0.686200</td>\n",
              "      <td>0.704484</td>\n",
              "      <td>0.610771</td>\n",
              "      <td>0.474541</td>\n",
              "      <td>...</td>\n",
              "      <td>-0.136839</td>\n",
              "      <td>-0.073371</td>\n",
              "      <td>-0.067763</td>\n",
              "      <td>-0.020941</td>\n",
              "      <td>-0.125950</td>\n",
              "      <td>-0.134168</td>\n",
              "      <td>-0.175707</td>\n",
              "      <td>0.080738</td>\n",
              "      <td>-0.077577</td>\n",
              "      <td>-0.021489</td>\n",
              "    </tr>\n",
              "    <tr>\n",
              "      <th>A</th>\n",
              "      <td>0.557381</td>\n",
              "      <td>0.506633</td>\n",
              "      <td>0.443942</td>\n",
              "      <td>0.457022</td>\n",
              "      <td>0.408979</td>\n",
              "      <td>0.545839</td>\n",
              "      <td>0.509451</td>\n",
              "      <td>0.533082</td>\n",
              "      <td>0.288679</td>\n",
              "      <td>0.379697</td>\n",
              "      <td>...</td>\n",
              "      <td>-0.056098</td>\n",
              "      <td>-0.049025</td>\n",
              "      <td>-0.043836</td>\n",
              "      <td>-0.015824</td>\n",
              "      <td>-0.039020</td>\n",
              "      <td>-0.052596</td>\n",
              "      <td>-0.124666</td>\n",
              "      <td>0.070788</td>\n",
              "      <td>-0.067830</td>\n",
              "      <td>-0.019481</td>\n",
              "    </tr>\n",
              "    <tr>\n",
              "      <th>E</th>\n",
              "      <td>0.609800</td>\n",
              "      <td>0.552408</td>\n",
              "      <td>0.599933</td>\n",
              "      <td>0.547600</td>\n",
              "      <td>0.362665</td>\n",
              "      <td>0.573781</td>\n",
              "      <td>0.606844</td>\n",
              "      <td>0.596823</td>\n",
              "      <td>0.335159</td>\n",
              "      <td>0.502694</td>\n",
              "      <td>...</td>\n",
              "      <td>-0.094362</td>\n",
              "      <td>-0.066769</td>\n",
              "      <td>-0.061369</td>\n",
              "      <td>-0.019826</td>\n",
              "      <td>-0.074420</td>\n",
              "      <td>-0.075312</td>\n",
              "      <td>-0.145167</td>\n",
              "      <td>0.082721</td>\n",
              "      <td>-0.079345</td>\n",
              "      <td>-0.022488</td>\n",
              "    </tr>\n",
              "    <tr>\n",
              "      <th>DP</th>\n",
              "      <td>0.597055</td>\n",
              "      <td>0.568276</td>\n",
              "      <td>0.447212</td>\n",
              "      <td>0.531277</td>\n",
              "      <td>0.441273</td>\n",
              "      <td>0.584373</td>\n",
              "      <td>0.554726</td>\n",
              "      <td>0.581457</td>\n",
              "      <td>0.402311</td>\n",
              "      <td>0.350550</td>\n",
              "      <td>...</td>\n",
              "      <td>-0.105036</td>\n",
              "      <td>-0.058037</td>\n",
              "      <td>-0.053271</td>\n",
              "      <td>-0.017012</td>\n",
              "      <td>-0.094569</td>\n",
              "      <td>-0.103783</td>\n",
              "      <td>-0.141789</td>\n",
              "      <td>0.067108</td>\n",
              "      <td>-0.064446</td>\n",
              "      <td>-0.017980</td>\n",
              "    </tr>\n",
              "    <tr>\n",
              "      <th>PB</th>\n",
              "      <td>0.145948</td>\n",
              "      <td>0.128611</td>\n",
              "      <td>0.110113</td>\n",
              "      <td>0.135746</td>\n",
              "      <td>0.000668</td>\n",
              "      <td>0.142776</td>\n",
              "      <td>0.114145</td>\n",
              "      <td>0.133771</td>\n",
              "      <td>0.063043</td>\n",
              "      <td>0.044610</td>\n",
              "      <td>...</td>\n",
              "      <td>-0.060663</td>\n",
              "      <td>-0.031310</td>\n",
              "      <td>-0.029017</td>\n",
              "      <td>-0.008795</td>\n",
              "      <td>-0.056712</td>\n",
              "      <td>-0.059829</td>\n",
              "      <td>-0.074470</td>\n",
              "      <td>0.032911</td>\n",
              "      <td>-0.031529</td>\n",
              "      <td>-0.009080</td>\n",
              "    </tr>\n",
              "    <tr>\n",
              "      <th>ZR</th>\n",
              "      <td>0.116584</td>\n",
              "      <td>0.098367</td>\n",
              "      <td>0.025638</td>\n",
              "      <td>0.108491</td>\n",
              "      <td>0.057525</td>\n",
              "      <td>0.126905</td>\n",
              "      <td>0.075241</td>\n",
              "      <td>0.103087</td>\n",
              "      <td>0.109022</td>\n",
              "      <td>-0.006027</td>\n",
              "      <td>...</td>\n",
              "      <td>-0.036465</td>\n",
              "      <td>-0.018797</td>\n",
              "      <td>-0.017420</td>\n",
              "      <td>-0.005288</td>\n",
              "      <td>-0.034096</td>\n",
              "      <td>-0.036230</td>\n",
              "      <td>-0.047254</td>\n",
              "      <td>0.020207</td>\n",
              "      <td>-0.019394</td>\n",
              "      <td>-0.005451</td>\n",
              "    </tr>\n",
              "    <tr>\n",
              "      <th>Runners_Caught_Stealing(fielder)</th>\n",
              "      <td>0.166269</td>\n",
              "      <td>0.159206</td>\n",
              "      <td>0.023938</td>\n",
              "      <td>0.156359</td>\n",
              "      <td>0.075142</td>\n",
              "      <td>0.179022</td>\n",
              "      <td>0.113767</td>\n",
              "      <td>0.150724</td>\n",
              "      <td>0.158759</td>\n",
              "      <td>-0.004325</td>\n",
              "      <td>...</td>\n",
              "      <td>-0.053122</td>\n",
              "      <td>-0.027383</td>\n",
              "      <td>-0.025379</td>\n",
              "      <td>-0.007682</td>\n",
              "      <td>-0.049673</td>\n",
              "      <td>-0.052777</td>\n",
              "      <td>-0.068419</td>\n",
              "      <td>0.029438</td>\n",
              "      <td>-0.028255</td>\n",
              "      <td>-0.007942</td>\n",
              "    </tr>\n",
              "    <tr>\n",
              "      <th>G(fielding)</th>\n",
              "      <td>0.716314</td>\n",
              "      <td>0.694998</td>\n",
              "      <td>0.518156</td>\n",
              "      <td>0.676596</td>\n",
              "      <td>0.694106</td>\n",
              "      <td>0.727175</td>\n",
              "      <td>0.694514</td>\n",
              "      <td>0.702109</td>\n",
              "      <td>0.640594</td>\n",
              "      <td>0.532070</td>\n",
              "      <td>...</td>\n",
              "      <td>-0.089352</td>\n",
              "      <td>-0.049976</td>\n",
              "      <td>-0.044959</td>\n",
              "      <td>-0.017793</td>\n",
              "      <td>-0.082222</td>\n",
              "      <td>-0.083333</td>\n",
              "      <td>-0.157094</td>\n",
              "      <td>0.090280</td>\n",
              "      <td>-0.086623</td>\n",
              "      <td>-0.024449</td>\n",
              "    </tr>\n",
              "    <tr>\n",
              "      <th>Stolen Bases Allowed</th>\n",
              "      <td>0.160809</td>\n",
              "      <td>0.157133</td>\n",
              "      <td>0.016953</td>\n",
              "      <td>0.152641</td>\n",
              "      <td>0.068410</td>\n",
              "      <td>0.173764</td>\n",
              "      <td>0.109504</td>\n",
              "      <td>0.145909</td>\n",
              "      <td>0.156617</td>\n",
              "      <td>-0.007134</td>\n",
              "      <td>...</td>\n",
              "      <td>-0.054280</td>\n",
              "      <td>-0.027980</td>\n",
              "      <td>-0.025932</td>\n",
              "      <td>-0.007821</td>\n",
              "      <td>-0.050756</td>\n",
              "      <td>-0.053927</td>\n",
              "      <td>-0.069829</td>\n",
              "      <td>0.030080</td>\n",
              "      <td>-0.028871</td>\n",
              "      <td>-0.008115</td>\n",
              "    </tr>\n",
              "    <tr>\n",
              "      <th>Games Started(Fielding)</th>\n",
              "      <td>0.478931</td>\n",
              "      <td>0.438073</td>\n",
              "      <td>0.308621</td>\n",
              "      <td>0.438348</td>\n",
              "      <td>0.570515</td>\n",
              "      <td>0.485488</td>\n",
              "      <td>0.446335</td>\n",
              "      <td>0.464110</td>\n",
              "      <td>0.459759</td>\n",
              "      <td>0.342152</td>\n",
              "      <td>...</td>\n",
              "      <td>-0.075783</td>\n",
              "      <td>-0.051560</td>\n",
              "      <td>-0.047783</td>\n",
              "      <td>-0.014505</td>\n",
              "      <td>-0.061774</td>\n",
              "      <td>-0.070507</td>\n",
              "      <td>-0.114688</td>\n",
              "      <td>0.055414</td>\n",
              "      <td>-0.053185</td>\n",
              "      <td>-0.014952</td>\n",
              "    </tr>\n",
              "    <tr>\n",
              "      <th>Wild Pitch(fielding)</th>\n",
              "      <td>0.128796</td>\n",
              "      <td>0.111842</td>\n",
              "      <td>0.024267</td>\n",
              "      <td>0.119204</td>\n",
              "      <td>0.059633</td>\n",
              "      <td>0.141917</td>\n",
              "      <td>0.081659</td>\n",
              "      <td>0.113797</td>\n",
              "      <td>0.119593</td>\n",
              "      <td>-0.010092</td>\n",
              "      <td>...</td>\n",
              "      <td>-0.045380</td>\n",
              "      <td>-0.023393</td>\n",
              "      <td>-0.021679</td>\n",
              "      <td>-0.006581</td>\n",
              "      <td>-0.042432</td>\n",
              "      <td>-0.045088</td>\n",
              "      <td>-0.058731</td>\n",
              "      <td>0.025147</td>\n",
              "      <td>-0.024136</td>\n",
              "      <td>-0.006784</td>\n",
              "    </tr>\n",
              "    <tr>\n",
              "      <th>W</th>\n",
              "      <td>-0.100937</td>\n",
              "      <td>-0.130486</td>\n",
              "      <td>-0.106247</td>\n",
              "      <td>-0.120737</td>\n",
              "      <td>-0.125956</td>\n",
              "      <td>0.031430</td>\n",
              "      <td>-0.125317</td>\n",
              "      <td>-0.123819</td>\n",
              "      <td>-0.117258</td>\n",
              "      <td>-0.107759</td>\n",
              "      <td>...</td>\n",
              "      <td>0.838664</td>\n",
              "      <td>0.288047</td>\n",
              "      <td>0.289180</td>\n",
              "      <td>0.045359</td>\n",
              "      <td>0.963894</td>\n",
              "      <td>0.851571</td>\n",
              "      <td>0.247115</td>\n",
              "      <td>0.075900</td>\n",
              "      <td>-0.072716</td>\n",
              "      <td>-0.020930</td>\n",
              "    </tr>\n",
              "    <tr>\n",
              "      <th>L</th>\n",
              "      <td>-0.120438</td>\n",
              "      <td>-0.149019</td>\n",
              "      <td>-0.123707</td>\n",
              "      <td>-0.139526</td>\n",
              "      <td>-0.137948</td>\n",
              "      <td>0.022125</td>\n",
              "      <td>-0.144440</td>\n",
              "      <td>-0.143084</td>\n",
              "      <td>-0.130478</td>\n",
              "      <td>-0.119958</td>\n",
              "      <td>...</td>\n",
              "      <td>0.851200</td>\n",
              "      <td>0.303737</td>\n",
              "      <td>0.300819</td>\n",
              "      <td>0.047867</td>\n",
              "      <td>0.956808</td>\n",
              "      <td>0.866501</td>\n",
              "      <td>0.290205</td>\n",
              "      <td>0.083129</td>\n",
              "      <td>-0.079676</td>\n",
              "      <td>-0.022807</td>\n",
              "    </tr>\n",
              "    <tr>\n",
              "      <th>CG</th>\n",
              "      <td>-0.031287</td>\n",
              "      <td>-0.066457</td>\n",
              "      <td>-0.036659</td>\n",
              "      <td>-0.057020</td>\n",
              "      <td>-0.086269</td>\n",
              "      <td>0.019231</td>\n",
              "      <td>-0.057004</td>\n",
              "      <td>-0.054973</td>\n",
              "      <td>-0.075041</td>\n",
              "      <td>-0.060426</td>\n",
              "      <td>...</td>\n",
              "      <td>0.633259</td>\n",
              "      <td>-0.005490</td>\n",
              "      <td>-0.001147</td>\n",
              "      <td>-0.008394</td>\n",
              "      <td>0.794933</td>\n",
              "      <td>0.689323</td>\n",
              "      <td>0.157827</td>\n",
              "      <td>0.051788</td>\n",
              "      <td>-0.049567</td>\n",
              "      <td>-0.014448</td>\n",
              "    </tr>\n",
              "    <tr>\n",
              "      <th>SHO</th>\n",
              "      <td>-0.053060</td>\n",
              "      <td>-0.084127</td>\n",
              "      <td>-0.065122</td>\n",
              "      <td>-0.076406</td>\n",
              "      <td>-0.090426</td>\n",
              "      <td>0.022919</td>\n",
              "      <td>-0.080138</td>\n",
              "      <td>-0.076266</td>\n",
              "      <td>-0.081843</td>\n",
              "      <td>-0.076223</td>\n",
              "      <td>...</td>\n",
              "      <td>0.693820</td>\n",
              "      <td>0.052209</td>\n",
              "      <td>0.058372</td>\n",
              "      <td>0.001767</td>\n",
              "      <td>0.865661</td>\n",
              "      <td>0.704218</td>\n",
              "      <td>0.159620</td>\n",
              "      <td>0.055061</td>\n",
              "      <td>-0.052718</td>\n",
              "      <td>-0.015296</td>\n",
              "    </tr>\n",
              "    <tr>\n",
              "      <th>SV</th>\n",
              "      <td>-0.084507</td>\n",
              "      <td>-0.084189</td>\n",
              "      <td>-0.074331</td>\n",
              "      <td>-0.080557</td>\n",
              "      <td>-0.064251</td>\n",
              "      <td>0.074199</td>\n",
              "      <td>-0.083773</td>\n",
              "      <td>-0.085738</td>\n",
              "      <td>-0.063859</td>\n",
              "      <td>-0.060487</td>\n",
              "      <td>...</td>\n",
              "      <td>0.235761</td>\n",
              "      <td>0.116631</td>\n",
              "      <td>0.123633</td>\n",
              "      <td>0.011578</td>\n",
              "      <td>0.099151</td>\n",
              "      <td>0.275717</td>\n",
              "      <td>0.119058</td>\n",
              "      <td>0.038030</td>\n",
              "      <td>-0.036475</td>\n",
              "      <td>-0.010350</td>\n",
              "    </tr>\n",
              "    <tr>\n",
              "      <th>IPouts</th>\n",
              "      <td>-0.112761</td>\n",
              "      <td>-0.142193</td>\n",
              "      <td>-0.116777</td>\n",
              "      <td>-0.132408</td>\n",
              "      <td>-0.134240</td>\n",
              "      <td>0.025099</td>\n",
              "      <td>-0.137098</td>\n",
              "      <td>-0.135783</td>\n",
              "      <td>-0.126032</td>\n",
              "      <td>-0.115622</td>\n",
              "      <td>...</td>\n",
              "      <td>0.853282</td>\n",
              "      <td>0.294208</td>\n",
              "      <td>0.293038</td>\n",
              "      <td>0.046023</td>\n",
              "      <td>0.971960</td>\n",
              "      <td>0.870220</td>\n",
              "      <td>0.271657</td>\n",
              "      <td>0.080904</td>\n",
              "      <td>-0.077529</td>\n",
              "      <td>-0.022246</td>\n",
              "    </tr>\n",
              "    <tr>\n",
              "      <th>ER</th>\n",
              "      <td>-0.126350</td>\n",
              "      <td>-0.153177</td>\n",
              "      <td>-0.128869</td>\n",
              "      <td>-0.143283</td>\n",
              "      <td>-0.140273</td>\n",
              "      <td>0.017048</td>\n",
              "      <td>-0.148849</td>\n",
              "      <td>-0.147946</td>\n",
              "      <td>-0.132722</td>\n",
              "      <td>-0.122641</td>\n",
              "      <td>...</td>\n",
              "      <td>0.854259</td>\n",
              "      <td>0.357250</td>\n",
              "      <td>0.349416</td>\n",
              "      <td>0.052373</td>\n",
              "      <td>0.965230</td>\n",
              "      <td>0.860562</td>\n",
              "      <td>0.303852</td>\n",
              "      <td>0.084468</td>\n",
              "      <td>-0.080959</td>\n",
              "      <td>-0.023175</td>\n",
              "    </tr>\n",
              "    <tr>\n",
              "      <th>BAOpp</th>\n",
              "      <td>-0.141462</td>\n",
              "      <td>-0.156171</td>\n",
              "      <td>-0.128686</td>\n",
              "      <td>-0.147156</td>\n",
              "      <td>-0.133618</td>\n",
              "      <td>-0.016036</td>\n",
              "      <td>-0.151945</td>\n",
              "      <td>-0.153972</td>\n",
              "      <td>-0.128408</td>\n",
              "      <td>-0.115263</td>\n",
              "      <td>...</td>\n",
              "      <td>0.593039</td>\n",
              "      <td>0.253102</td>\n",
              "      <td>0.241691</td>\n",
              "      <td>0.043611</td>\n",
              "      <td>0.592004</td>\n",
              "      <td>0.594164</td>\n",
              "      <td>0.323221</td>\n",
              "      <td>0.080227</td>\n",
              "      <td>-0.076937</td>\n",
              "      <td>-0.021865</td>\n",
              "    </tr>\n",
              "    <tr>\n",
              "      <th>BK</th>\n",
              "      <td>-0.115649</td>\n",
              "      <td>-0.124926</td>\n",
              "      <td>-0.114839</td>\n",
              "      <td>-0.119738</td>\n",
              "      <td>-0.100356</td>\n",
              "      <td>0.010333</td>\n",
              "      <td>-0.125798</td>\n",
              "      <td>-0.125493</td>\n",
              "      <td>-0.099101</td>\n",
              "      <td>-0.095988</td>\n",
              "      <td>...</td>\n",
              "      <td>0.576391</td>\n",
              "      <td>0.233953</td>\n",
              "      <td>0.234209</td>\n",
              "      <td>0.028381</td>\n",
              "      <td>0.632033</td>\n",
              "      <td>0.611239</td>\n",
              "      <td>0.216228</td>\n",
              "      <td>0.060636</td>\n",
              "      <td>-0.058125</td>\n",
              "      <td>-0.016610</td>\n",
              "    </tr>\n",
              "    <tr>\n",
              "      <th>BFP</th>\n",
              "      <td>-0.118076</td>\n",
              "      <td>-0.144892</td>\n",
              "      <td>-0.123929</td>\n",
              "      <td>-0.136233</td>\n",
              "      <td>-0.133420</td>\n",
              "      <td>0.026534</td>\n",
              "      <td>-0.142177</td>\n",
              "      <td>-0.140197</td>\n",
              "      <td>-0.126067</td>\n",
              "      <td>-0.118821</td>\n",
              "      <td>...</td>\n",
              "      <td>0.842850</td>\n",
              "      <td>0.313027</td>\n",
              "      <td>0.311037</td>\n",
              "      <td>0.048755</td>\n",
              "      <td>0.957689</td>\n",
              "      <td>0.853497</td>\n",
              "      <td>0.274565</td>\n",
              "      <td>0.080457</td>\n",
              "      <td>-0.077096</td>\n",
              "      <td>-0.022139</td>\n",
              "    </tr>\n",
              "    <tr>\n",
              "      <th>GF</th>\n",
              "      <td>-0.129449</td>\n",
              "      <td>-0.130407</td>\n",
              "      <td>-0.114116</td>\n",
              "      <td>-0.124728</td>\n",
              "      <td>-0.101065</td>\n",
              "      <td>0.067325</td>\n",
              "      <td>-0.129498</td>\n",
              "      <td>-0.132221</td>\n",
              "      <td>-0.100201</td>\n",
              "      <td>-0.094375</td>\n",
              "      <td>...</td>\n",
              "      <td>0.357505</td>\n",
              "      <td>0.162783</td>\n",
              "      <td>0.160275</td>\n",
              "      <td>0.016485</td>\n",
              "      <td>0.187233</td>\n",
              "      <td>0.389813</td>\n",
              "      <td>0.210505</td>\n",
              "      <td>0.060047</td>\n",
              "      <td>-0.057599</td>\n",
              "      <td>-0.016315</td>\n",
              "    </tr>\n",
              "    <tr>\n",
              "      <th>G(pitching)</th>\n",
              "      <td>-0.164275</td>\n",
              "      <td>-0.179421</td>\n",
              "      <td>-0.155075</td>\n",
              "      <td>-0.170220</td>\n",
              "      <td>-0.149938</td>\n",
              "      <td>0.052817</td>\n",
              "      <td>-0.176604</td>\n",
              "      <td>-0.178190</td>\n",
              "      <td>-0.145452</td>\n",
              "      <td>-0.136297</td>\n",
              "      <td>...</td>\n",
              "      <td>0.742750</td>\n",
              "      <td>0.363707</td>\n",
              "      <td>0.354275</td>\n",
              "      <td>0.054286</td>\n",
              "      <td>0.690790</td>\n",
              "      <td>0.764639</td>\n",
              "      <td>0.318380</td>\n",
              "      <td>0.089774</td>\n",
              "      <td>-0.086081</td>\n",
              "      <td>-0.024504</td>\n",
              "    </tr>\n",
              "    <tr>\n",
              "      <th>R(pitching)</th>\n",
              "      <td>-0.115762</td>\n",
              "      <td>-0.145209</td>\n",
              "      <td>-0.117101</td>\n",
              "      <td>-0.134824</td>\n",
              "      <td>-0.137748</td>\n",
              "      <td>0.016132</td>\n",
              "      <td>-0.138636</td>\n",
              "      <td>-0.138336</td>\n",
              "      <td>-0.129339</td>\n",
              "      <td>-0.116265</td>\n",
              "      <td>...</td>\n",
              "      <td>0.838851</td>\n",
              "      <td>0.315491</td>\n",
              "      <td>0.309196</td>\n",
              "      <td>0.045261</td>\n",
              "      <td>0.958839</td>\n",
              "      <td>0.870472</td>\n",
              "      <td>0.294358</td>\n",
              "      <td>0.082914</td>\n",
              "      <td>-0.079471</td>\n",
              "      <td>-0.022745</td>\n",
              "    </tr>\n",
              "    <tr>\n",
              "      <th>Hits_Allowed</th>\n",
              "      <td>-0.113064</td>\n",
              "      <td>-0.142555</td>\n",
              "      <td>-0.116892</td>\n",
              "      <td>-0.132604</td>\n",
              "      <td>-0.135009</td>\n",
              "      <td>0.022322</td>\n",
              "      <td>-0.137223</td>\n",
              "      <td>-0.135941</td>\n",
              "      <td>-0.126844</td>\n",
              "      <td>-0.116050</td>\n",
              "      <td>...</td>\n",
              "      <td>0.845262</td>\n",
              "      <td>0.303632</td>\n",
              "      <td>0.300833</td>\n",
              "      <td>0.045726</td>\n",
              "      <td>0.969545</td>\n",
              "      <td>0.855612</td>\n",
              "      <td>0.280392</td>\n",
              "      <td>0.081305</td>\n",
              "      <td>-0.077915</td>\n",
              "      <td>-0.022350</td>\n",
              "    </tr>\n",
              "    <tr>\n",
              "      <th>Home Runes Allowed</th>\n",
              "      <td>-0.135407</td>\n",
              "      <td>-0.153083</td>\n",
              "      <td>-0.139694</td>\n",
              "      <td>-0.145581</td>\n",
              "      <td>-0.129247</td>\n",
              "      <td>0.022281</td>\n",
              "      <td>-0.152429</td>\n",
              "      <td>-0.152143</td>\n",
              "      <td>-0.124282</td>\n",
              "      <td>-0.120806</td>\n",
              "      <td>...</td>\n",
              "      <td>0.784461</td>\n",
              "      <td>0.471442</td>\n",
              "      <td>0.454937</td>\n",
              "      <td>0.071358</td>\n",
              "      <td>0.879308</td>\n",
              "      <td>0.775432</td>\n",
              "      <td>0.284875</td>\n",
              "      <td>0.077944</td>\n",
              "      <td>-0.074723</td>\n",
              "      <td>-0.021328</td>\n",
              "    </tr>\n",
              "    <tr>\n",
              "      <th>Walks Allowed</th>\n",
              "      <td>-0.132246</td>\n",
              "      <td>-0.157872</td>\n",
              "      <td>-0.133364</td>\n",
              "      <td>-0.147606</td>\n",
              "      <td>-0.141717</td>\n",
              "      <td>0.015542</td>\n",
              "      <td>-0.153845</td>\n",
              "      <td>-0.153160</td>\n",
              "      <td>-0.134263</td>\n",
              "      <td>-0.124508</td>\n",
              "      <td>...</td>\n",
              "      <td>0.845463</td>\n",
              "      <td>0.307334</td>\n",
              "      <td>0.305074</td>\n",
              "      <td>0.044661</td>\n",
              "      <td>0.928225</td>\n",
              "      <td>0.882041</td>\n",
              "      <td>0.301812</td>\n",
              "      <td>0.085383</td>\n",
              "      <td>-0.081834</td>\n",
              "      <td>-0.023432</td>\n",
              "    </tr>\n",
              "    <tr>\n",
              "      <th>Batters Struck Out</th>\n",
              "      <td>-0.124513</td>\n",
              "      <td>-0.147528</td>\n",
              "      <td>-0.127317</td>\n",
              "      <td>-0.139205</td>\n",
              "      <td>-0.130420</td>\n",
              "      <td>0.031168</td>\n",
              "      <td>-0.144948</td>\n",
              "      <td>-0.144263</td>\n",
              "      <td>-0.124180</td>\n",
              "      <td>-0.116775</td>\n",
              "      <td>...</td>\n",
              "      <td>0.848071</td>\n",
              "      <td>0.400338</td>\n",
              "      <td>0.401020</td>\n",
              "      <td>0.072914</td>\n",
              "      <td>0.920066</td>\n",
              "      <td>0.876994</td>\n",
              "      <td>0.258862</td>\n",
              "      <td>0.078691</td>\n",
              "      <td>-0.075423</td>\n",
              "      <td>-0.021587</td>\n",
              "    </tr>\n",
              "    <tr>\n",
              "      <th>Walks Allowed (intentionally)</th>\n",
              "      <td>-0.137034</td>\n",
              "      <td>-0.144136</td>\n",
              "      <td>-0.133702</td>\n",
              "      <td>-0.138833</td>\n",
              "      <td>-0.110477</td>\n",
              "      <td>0.049293</td>\n",
              "      <td>-0.144379</td>\n",
              "      <td>-0.146158</td>\n",
              "      <td>-0.109498</td>\n",
              "      <td>-0.107098</td>\n",
              "      <td>...</td>\n",
              "      <td>0.576833</td>\n",
              "      <td>0.311495</td>\n",
              "      <td>0.321853</td>\n",
              "      <td>0.036221</td>\n",
              "      <td>0.557748</td>\n",
              "      <td>0.633496</td>\n",
              "      <td>0.234657</td>\n",
              "      <td>0.067101</td>\n",
              "      <td>-0.064388</td>\n",
              "      <td>-0.018157</td>\n",
              "    </tr>\n",
              "    <tr>\n",
              "      <th>Batters Hit</th>\n",
              "      <td>-0.124603</td>\n",
              "      <td>-0.146245</td>\n",
              "      <td>-0.121731</td>\n",
              "      <td>-0.137994</td>\n",
              "      <td>-0.129429</td>\n",
              "      <td>0.011162</td>\n",
              "      <td>-0.143096</td>\n",
              "      <td>-0.142739</td>\n",
              "      <td>-0.123770</td>\n",
              "      <td>-0.112406</td>\n",
              "      <td>...</td>\n",
              "      <td>1.000000</td>\n",
              "      <td>0.443041</td>\n",
              "      <td>0.432836</td>\n",
              "      <td>0.077247</td>\n",
              "      <td>0.833269</td>\n",
              "      <td>0.767998</td>\n",
              "      <td>0.269212</td>\n",
              "      <td>0.078500</td>\n",
              "      <td>-0.075288</td>\n",
              "      <td>-0.021367</td>\n",
              "    </tr>\n",
              "    <tr>\n",
              "      <th>Sacrifice Flies Allowed</th>\n",
              "      <td>-0.089879</td>\n",
              "      <td>-0.089192</td>\n",
              "      <td>-0.084184</td>\n",
              "      <td>-0.087633</td>\n",
              "      <td>-0.068361</td>\n",
              "      <td>-0.003804</td>\n",
              "      <td>-0.091237</td>\n",
              "      <td>-0.092625</td>\n",
              "      <td>-0.068110</td>\n",
              "      <td>-0.065519</td>\n",
              "      <td>...</td>\n",
              "      <td>0.443041</td>\n",
              "      <td>1.000000</td>\n",
              "      <td>0.923891</td>\n",
              "      <td>0.201946</td>\n",
              "      <td>0.323733</td>\n",
              "      <td>0.306042</td>\n",
              "      <td>0.159287</td>\n",
              "      <td>0.040827</td>\n",
              "      <td>-0.039186</td>\n",
              "      <td>-0.011014</td>\n",
              "    </tr>\n",
              "    <tr>\n",
              "      <th>Sacrifice Hits Allowed</th>\n",
              "      <td>-0.079172</td>\n",
              "      <td>-0.080509</td>\n",
              "      <td>-0.077475</td>\n",
              "      <td>-0.079425</td>\n",
              "      <td>-0.063161</td>\n",
              "      <td>0.001648</td>\n",
              "      <td>-0.082907</td>\n",
              "      <td>-0.083542</td>\n",
              "      <td>-0.062400</td>\n",
              "      <td>-0.060609</td>\n",
              "      <td>...</td>\n",
              "      <td>0.432836</td>\n",
              "      <td>0.923891</td>\n",
              "      <td>1.000000</td>\n",
              "      <td>0.177063</td>\n",
              "      <td>0.323350</td>\n",
              "      <td>0.297188</td>\n",
              "      <td>0.141469</td>\n",
              "      <td>0.037830</td>\n",
              "      <td>-0.036308</td>\n",
              "      <td>-0.010207</td>\n",
              "    </tr>\n",
              "    <tr>\n",
              "      <th>Ground out into Double Play(pitcher)</th>\n",
              "      <td>-0.027718</td>\n",
              "      <td>-0.026355</td>\n",
              "      <td>-0.024067</td>\n",
              "      <td>-0.025809</td>\n",
              "      <td>-0.019313</td>\n",
              "      <td>-0.015089</td>\n",
              "      <td>-0.026726</td>\n",
              "      <td>-0.027516</td>\n",
              "      <td>-0.019560</td>\n",
              "      <td>-0.018545</td>\n",
              "      <td>...</td>\n",
              "      <td>0.077247</td>\n",
              "      <td>0.201946</td>\n",
              "      <td>0.177063</td>\n",
              "      <td>1.000000</td>\n",
              "      <td>0.054663</td>\n",
              "      <td>0.056762</td>\n",
              "      <td>0.029319</td>\n",
              "      <td>0.011486</td>\n",
              "      <td>-0.011024</td>\n",
              "      <td>-0.003098</td>\n",
              "    </tr>\n",
              "    <tr>\n",
              "      <th>Games Started(Pitching)</th>\n",
              "      <td>-0.095568</td>\n",
              "      <td>-0.125062</td>\n",
              "      <td>-0.104276</td>\n",
              "      <td>-0.116372</td>\n",
              "      <td>-0.119932</td>\n",
              "      <td>0.011189</td>\n",
              "      <td>-0.120906</td>\n",
              "      <td>-0.118816</td>\n",
              "      <td>-0.112130</td>\n",
              "      <td>-0.103976</td>\n",
              "      <td>...</td>\n",
              "      <td>0.833269</td>\n",
              "      <td>0.323733</td>\n",
              "      <td>0.323350</td>\n",
              "      <td>0.054663</td>\n",
              "      <td>1.000000</td>\n",
              "      <td>0.836553</td>\n",
              "      <td>0.244644</td>\n",
              "      <td>0.072588</td>\n",
              "      <td>-0.069554</td>\n",
              "      <td>-0.019978</td>\n",
              "    </tr>\n",
              "    <tr>\n",
              "      <th>Wild Pitch(pitcher)</th>\n",
              "      <td>-0.119319</td>\n",
              "      <td>-0.141763</td>\n",
              "      <td>-0.113529</td>\n",
              "      <td>-0.132858</td>\n",
              "      <td>-0.129315</td>\n",
              "      <td>0.020158</td>\n",
              "      <td>-0.135917</td>\n",
              "      <td>-0.137635</td>\n",
              "      <td>-0.121753</td>\n",
              "      <td>-0.108356</td>\n",
              "      <td>...</td>\n",
              "      <td>0.767998</td>\n",
              "      <td>0.306042</td>\n",
              "      <td>0.297188</td>\n",
              "      <td>0.056762</td>\n",
              "      <td>0.836553</td>\n",
              "      <td>1.000000</td>\n",
              "      <td>0.272218</td>\n",
              "      <td>0.077884</td>\n",
              "      <td>-0.074689</td>\n",
              "      <td>-0.021229</td>\n",
              "    </tr>\n",
              "    <tr>\n",
              "      <th>ERA</th>\n",
              "      <td>-0.224884</td>\n",
              "      <td>-0.219015</td>\n",
              "      <td>-0.188330</td>\n",
              "      <td>-0.210919</td>\n",
              "      <td>-0.169407</td>\n",
              "      <td>-0.169356</td>\n",
              "      <td>-0.216396</td>\n",
              "      <td>-0.223767</td>\n",
              "      <td>-0.168019</td>\n",
              "      <td>-0.152957</td>\n",
              "      <td>...</td>\n",
              "      <td>0.269212</td>\n",
              "      <td>0.159287</td>\n",
              "      <td>0.141469</td>\n",
              "      <td>0.029319</td>\n",
              "      <td>0.244644</td>\n",
              "      <td>0.272218</td>\n",
              "      <td>1.000000</td>\n",
              "      <td>0.102887</td>\n",
              "      <td>-0.098731</td>\n",
              "      <td>-0.027823</td>\n",
              "    </tr>\n",
              "    <tr>\n",
              "      <th>inducted_0</th>\n",
              "      <td>0.114005</td>\n",
              "      <td>0.102163</td>\n",
              "      <td>0.089115</td>\n",
              "      <td>0.098491</td>\n",
              "      <td>0.073057</td>\n",
              "      <td>0.141369</td>\n",
              "      <td>0.102497</td>\n",
              "      <td>0.106995</td>\n",
              "      <td>0.073136</td>\n",
              "      <td>0.069748</td>\n",
              "      <td>...</td>\n",
              "      <td>0.078500</td>\n",
              "      <td>0.040827</td>\n",
              "      <td>0.037830</td>\n",
              "      <td>0.011486</td>\n",
              "      <td>0.072588</td>\n",
              "      <td>0.077884</td>\n",
              "      <td>0.102887</td>\n",
              "      <td>1.000000</td>\n",
              "      <td>-0.959797</td>\n",
              "      <td>-0.269770</td>\n",
              "    </tr>\n",
              "    <tr>\n",
              "      <th>inducted_N</th>\n",
              "      <td>-0.109394</td>\n",
              "      <td>-0.098056</td>\n",
              "      <td>-0.085587</td>\n",
              "      <td>-0.094604</td>\n",
              "      <td>-0.070230</td>\n",
              "      <td>-0.135645</td>\n",
              "      <td>-0.098434</td>\n",
              "      <td>-0.102680</td>\n",
              "      <td>-0.070368</td>\n",
              "      <td>-0.066920</td>\n",
              "      <td>...</td>\n",
              "      <td>-0.075288</td>\n",
              "      <td>-0.039186</td>\n",
              "      <td>-0.036308</td>\n",
              "      <td>-0.011024</td>\n",
              "      <td>-0.069554</td>\n",
              "      <td>-0.074689</td>\n",
              "      <td>-0.098731</td>\n",
              "      <td>-0.959797</td>\n",
              "      <td>1.000000</td>\n",
              "      <td>-0.011364</td>\n",
              "    </tr>\n",
              "    <tr>\n",
              "      <th>inducted_Y</th>\n",
              "      <td>-0.030849</td>\n",
              "      <td>-0.027559</td>\n",
              "      <td>-0.023852</td>\n",
              "      <td>-0.026322</td>\n",
              "      <td>-0.019328</td>\n",
              "      <td>-0.038274</td>\n",
              "      <td>-0.027455</td>\n",
              "      <td>-0.028910</td>\n",
              "      <td>-0.019137</td>\n",
              "      <td>-0.018900</td>\n",
              "      <td>...</td>\n",
              "      <td>-0.021367</td>\n",
              "      <td>-0.011014</td>\n",
              "      <td>-0.010207</td>\n",
              "      <td>-0.003098</td>\n",
              "      <td>-0.019978</td>\n",
              "      <td>-0.021229</td>\n",
              "      <td>-0.027823</td>\n",
              "      <td>-0.269770</td>\n",
              "      <td>-0.011364</td>\n",
              "      <td>1.000000</td>\n",
              "    </tr>\n",
              "  </tbody>\n",
              "</table>\n",
              "<p>57 rows × 57 columns</p>\n",
              "</div>\n",
              "      <button class=\"colab-df-convert\" onclick=\"convertToInteractive('df-854ffba6-8c72-4e06-873b-417007a17f61')\"\n",
              "              title=\"Convert this dataframe to an interactive table.\"\n",
              "              style=\"display:none;\">\n",
              "        \n",
              "  <svg xmlns=\"http://www.w3.org/2000/svg\" height=\"24px\"viewBox=\"0 0 24 24\"\n",
              "       width=\"24px\">\n",
              "    <path d=\"M0 0h24v24H0V0z\" fill=\"none\"/>\n",
              "    <path d=\"M18.56 5.44l.94 2.06.94-2.06 2.06-.94-2.06-.94-.94-2.06-.94 2.06-2.06.94zm-11 1L8.5 8.5l.94-2.06 2.06-.94-2.06-.94L8.5 2.5l-.94 2.06-2.06.94zm10 10l.94 2.06.94-2.06 2.06-.94-2.06-.94-.94-2.06-.94 2.06-2.06.94z\"/><path d=\"M17.41 7.96l-1.37-1.37c-.4-.4-.92-.59-1.43-.59-.52 0-1.04.2-1.43.59L10.3 9.45l-7.72 7.72c-.78.78-.78 2.05 0 2.83L4 21.41c.39.39.9.59 1.41.59.51 0 1.02-.2 1.41-.59l7.78-7.78 2.81-2.81c.8-.78.8-2.07 0-2.86zM5.41 20L4 18.59l7.72-7.72 1.47 1.35L5.41 20z\"/>\n",
              "  </svg>\n",
              "      </button>\n",
              "      \n",
              "  <style>\n",
              "    .colab-df-container {\n",
              "      display:flex;\n",
              "      flex-wrap:wrap;\n",
              "      gap: 12px;\n",
              "    }\n",
              "\n",
              "    .colab-df-convert {\n",
              "      background-color: #E8F0FE;\n",
              "      border: none;\n",
              "      border-radius: 50%;\n",
              "      cursor: pointer;\n",
              "      display: none;\n",
              "      fill: #1967D2;\n",
              "      height: 32px;\n",
              "      padding: 0 0 0 0;\n",
              "      width: 32px;\n",
              "    }\n",
              "\n",
              "    .colab-df-convert:hover {\n",
              "      background-color: #E2EBFA;\n",
              "      box-shadow: 0px 1px 2px rgba(60, 64, 67, 0.3), 0px 1px 3px 1px rgba(60, 64, 67, 0.15);\n",
              "      fill: #174EA6;\n",
              "    }\n",
              "\n",
              "    [theme=dark] .colab-df-convert {\n",
              "      background-color: #3B4455;\n",
              "      fill: #D2E3FC;\n",
              "    }\n",
              "\n",
              "    [theme=dark] .colab-df-convert:hover {\n",
              "      background-color: #434B5C;\n",
              "      box-shadow: 0px 1px 3px 1px rgba(0, 0, 0, 0.15);\n",
              "      filter: drop-shadow(0px 1px 2px rgba(0, 0, 0, 0.3));\n",
              "      fill: #FFFFFF;\n",
              "    }\n",
              "  </style>\n",
              "\n",
              "      <script>\n",
              "        const buttonEl =\n",
              "          document.querySelector('#df-854ffba6-8c72-4e06-873b-417007a17f61 button.colab-df-convert');\n",
              "        buttonEl.style.display =\n",
              "          google.colab.kernel.accessAllowed ? 'block' : 'none';\n",
              "\n",
              "        async function convertToInteractive(key) {\n",
              "          const element = document.querySelector('#df-854ffba6-8c72-4e06-873b-417007a17f61');\n",
              "          const dataTable =\n",
              "            await google.colab.kernel.invokeFunction('convertToInteractive',\n",
              "                                                     [key], {});\n",
              "          if (!dataTable) return;\n",
              "\n",
              "          const docLinkHtml = 'Like what you see? Visit the ' +\n",
              "            '<a target=\"_blank\" href=https://colab.research.google.com/notebooks/data_table.ipynb>data table notebook</a>'\n",
              "            + ' to learn more about interactive tables.';\n",
              "          element.innerHTML = '';\n",
              "          dataTable['output_type'] = 'display_data';\n",
              "          await google.colab.output.renderOutput(dataTable, element);\n",
              "          const docLink = document.createElement('div');\n",
              "          docLink.innerHTML = docLinkHtml;\n",
              "          element.appendChild(docLink);\n",
              "        }\n",
              "      </script>\n",
              "    </div>\n",
              "  </div>\n",
              "  "
            ]
          },
          "metadata": {},
          "execution_count": 29
        }
      ]
    },
    {
      "cell_type": "code",
      "source": [
        "#Corrilation Heat Map of Merge Data\n",
        "plt.pyplot.figure(figsize=(30,30), dpi= 200, facecolor='w', edgecolor='k')\n",
        "plt.pyplot.matshow(mergeData.corr())\n",
        "plt.pyplot.legend()\n",
        "plt.pyplot.savefig('/content/drive/MyDrive/archive (1)/corrilation.png',dpi=300)"
      ],
      "metadata": {
        "id": "YSbsCwjrhPw3",
        "colab": {
          "base_uri": "https://localhost:8080/",
          "height": 310
        },
        "outputId": "5ffb7eeb-ed2d-4614-92ae-6673722ea50a"
      },
      "execution_count": null,
      "outputs": [
        {
          "output_type": "stream",
          "name": "stderr",
          "text": [
            "WARNING:matplotlib.legend:No handles with labels found to put in legend.\n"
          ]
        },
        {
          "output_type": "display_data",
          "data": {
            "text/plain": [
              "<Figure size 6000x6000 with 0 Axes>"
            ]
          },
          "metadata": {}
        },
        {
          "output_type": "display_data",
          "data": {
            "text/plain": [
              "<Figure size 288x288 with 1 Axes>"
            ],
            "image/png": "[encoded data removed]"
          },
          "metadata": {
            "needs_background": "light"
          }
        }
      ]
    },
    {
      "cell_type": "markdown",
      "source": [
        "# Machine Learning"
      ],
      "metadata": {
        "id": "Rl5p_UkukZx5"
      }
    },
    {
      "cell_type": "code",
      "source": [
        "mergeData.info()"
      ],
      "metadata": {
        "id": "1ns4Mq5Fkc2O",
        "colab": {
          "base_uri": "https://localhost:8080/"
        },
        "outputId": "223bb0c3-f5be-4a65-82fe-2462780de1a5"
      },
      "execution_count": null,
      "outputs": [
        {
          "output_type": "stream",
          "name": "stdout",
          "text": [
            "<class 'pandas.core.frame.DataFrame'>\n",
            "MultiIndex: 97993 entries, ('aardsda01', 2004) to ('zychto01', 2015)\n",
            "Data columns (total 57 columns):\n",
            " #   Column                                Non-Null Count  Dtype  \n",
            "---  ------                                --------------  -----  \n",
            " 0   AB                                    97993 non-null  float64\n",
            " 1   2B                                    97993 non-null  float64\n",
            " 2   3B                                    97993 non-null  float64\n",
            " 3   RBI                                   97993 non-null  float64\n",
            " 4   Caught_Stealing(batter)               97993 non-null  float64\n",
            " 5   G(batting)                            97993 non-null  float64\n",
            " 6   R(batting)                            97993 non-null  float64\n",
            " 7   Hits                                  97993 non-null  float64\n",
            " 8   Home Runs                             97993 non-null  float64\n",
            " 9   Bases Stolen                          97993 non-null  float64\n",
            " 10  Walked                                97993 non-null  float64\n",
            " 11  Strike Outs                           97993 non-null  float64\n",
            " 12  Walked(intentionally)                 97993 non-null  float64\n",
            " 13  Hit by Pitch                          97993 non-null  float64\n",
            " 14  Sacrifice Fly                         97993 non-null  float64\n",
            " 15  Sacrifice Hit                         97993 non-null  float64\n",
            " 16  Ground out into Double Play           97993 non-null  float64\n",
            " 17  InnOuts                               97993 non-null  float64\n",
            " 18  PO                                    97993 non-null  float64\n",
            " 19  A                                     97993 non-null  float64\n",
            " 20  E                                     97993 non-null  float64\n",
            " 21  DP                                    97993 non-null  float64\n",
            " 22  PB                                    97993 non-null  float64\n",
            " 23  ZR                                    97993 non-null  float64\n",
            " 24  Runners_Caught_Stealing(fielder)      97993 non-null  float64\n",
            " 25  G(fielding)                           97993 non-null  float64\n",
            " 26  Stolen Bases Allowed                  97993 non-null  float64\n",
            " 27  Games Started(Fielding)               97993 non-null  float64\n",
            " 28  Wild Pitch(fielding)                  97993 non-null  float64\n",
            " 29  W                                     97993 non-null  float64\n",
            " 30  L                                     97993 non-null  float64\n",
            " 31  CG                                    97993 non-null  float64\n",
            " 32  SHO                                   97993 non-null  float64\n",
            " 33  SV                                    97993 non-null  float64\n",
            " 34  IPouts                                97993 non-null  float64\n",
            " 35  ER                                    97993 non-null  float64\n",
            " 36  BAOpp                                 97993 non-null  float64\n",
            " 37  BK                                    97993 non-null  float64\n",
            " 38  BFP                                   97993 non-null  float64\n",
            " 39  GF                                    97993 non-null  float64\n",
            " 40  G(pitching)                           97993 non-null  float64\n",
            " 41  R(pitching)                           97993 non-null  float64\n",
            " 42  Hits_Allowed                          97993 non-null  float64\n",
            " 43  Home Runes Allowed                    97993 non-null  float64\n",
            " 44  Walks Allowed                         97993 non-null  float64\n",
            " 45  Batters Struck Out                    97993 non-null  float64\n",
            " 46  Walks Allowed (intentionally)         97993 non-null  float64\n",
            " 47  Batters Hit                           97993 non-null  float64\n",
            " 48  Sacrifice Flies Allowed               97993 non-null  float64\n",
            " 49  Sacrifice Hits Allowed                97993 non-null  float64\n",
            " 50  Ground out into Double Play(pitcher)  97993 non-null  float64\n",
            " 51  Games Started(Pitching)               97993 non-null  float64\n",
            " 52  Wild Pitch(pitcher)                   97993 non-null  float64\n",
            " 53  ERA                                   97993 non-null  float64\n",
            " 54  inducted_0                            97993 non-null  uint8  \n",
            " 55  inducted_N                            97993 non-null  uint8  \n",
            " 56  inducted_Y                            97993 non-null  uint8  \n",
            "dtypes: float64(54), uint8(3)\n",
            "memory usage: 41.7+ MB\n"
          ]
        }
      ]
    },
    {
      "cell_type": "code",
      "source": [
        "#Before SMOTE\n",
        "mergeData['inducted_Y'].value_counts()"
      ],
      "metadata": {
        "colab": {
          "base_uri": "https://localhost:8080/"
        },
        "id": "Ra9efxKsqawe",
        "outputId": "8913caf9-aace-4417-f670-749e6273dc8a"
      },
      "execution_count": null,
      "outputs": [
        {
          "output_type": "execute_result",
          "data": {
            "text/plain": [
              "0    97681\n",
              "1      312\n",
              "Name: inducted_Y, dtype: int64"
            ]
          },
          "metadata": {},
          "execution_count": 14
        }
      ]
    },
    {
      "cell_type": "code",
      "source": [
        "#Split Data\n",
        "X_data = mergeData.iloc[:,:-3]\n",
        "y_data = mergeData['inducted_Y']\n",
        "#Default split is 75% training 25% testing\n",
        "X_train, X_test, y_train, y_test = train_test_split(X_data, y_data,train_size = 0.7)\n",
        "# creating synthetic data points to balence the training data\n",
        "oversampler = SMOTE(k_neighbors = 5)\n",
        "X_train , y_train = oversampler.fit_resample(X_train,y_train)"
      ],
      "metadata": {
        "id": "E6zy19VvoYW0"
      },
      "execution_count": null,
      "outputs": []
    },
    {
      "cell_type": "code",
      "source": [
        "#Double Check X_data Columns\n",
        "print(X_data.columns)"
      ],
      "metadata": {
        "colab": {
          "base_uri": "https://localhost:8080/"
        },
        "id": "imf1LOXJeWAB",
        "outputId": "08ef4415-651f-416f-9e6e-ad66b9d12db4"
      },
      "execution_count": null,
      "outputs": [
        {
          "output_type": "stream",
          "name": "stdout",
          "text": [
            "Index(['AB', '2B', '3B', 'RBI', 'Caught_Stealing(batter)', 'G(batting)',\n",
            "       'R(batting)', 'Hits', 'Home Runs', 'Bases Stolen', 'Walked',\n",
            "       'Strike Outs', 'Walked(intentionally)', 'Hit by Pitch', 'Sacrifice Fly',\n",
            "       'Sacrifice Hit', 'Ground out into Double Play', 'InnOuts', 'PO', 'A',\n",
            "       'E', 'DP', 'PB', 'ZR', 'Runners_Caught_Stealing(fielder)',\n",
            "       'G(fielding)', 'Stolen Bases Allowed', 'Games Started(Fielding)',\n",
            "       'Wild Pitch(fielding)', 'W', 'L', 'CG', 'SHO', 'SV', 'IPouts', 'ER',\n",
            "       'BAOpp', 'BK', 'BFP', 'GF', 'G(pitching)', 'R(pitching)',\n",
            "       'Hits_Allowed', 'Home Runes Allowed', 'Walks Allowed',\n",
            "       'Batters Struck Out', 'Walks Allowed (intentionally)', 'Batters Hit',\n",
            "       'Sacrifice Flies Allowed', 'Sacrifice Hits Allowed',\n",
            "       'Ground out into Double Play(pitcher)', 'Games Started(Pitching)',\n",
            "       'Wild Pitch(pitcher)', 'ERA'],\n",
            "      dtype='object')\n"
          ]
        }
      ]
    },
    {
      "cell_type": "code",
      "source": [
        "#After SMOTE\n",
        "y_train.value_counts()"
      ],
      "metadata": {
        "colab": {
          "base_uri": "https://localhost:8080/"
        },
        "id": "2w3HLPmsLBTE",
        "outputId": "6530b375-7642-4e34-a225-96ccd640578e"
      },
      "execution_count": null,
      "outputs": [
        {
          "output_type": "execute_result",
          "data": {
            "text/plain": [
              "0    68366\n",
              "1    68366\n",
              "Name: inducted_Y, dtype: int64"
            ]
          },
          "metadata": {},
          "execution_count": 16
        }
      ]
    },
    {
      "cell_type": "markdown",
      "source": [
        "##RandomizedSearchCV"
      ],
      "metadata": {
        "id": "a9lHpZLu1ahi"
      }
    },
    {
      "cell_type": "code",
      "source": [
        "kfold = KFold(n_splits=10, shuffle = True)"
      ],
      "metadata": {
        "id": "9_ziklC0mzSV"
      },
      "execution_count": null,
      "outputs": []
    },
    {
      "cell_type": "code",
      "source": [
        "#Takes too long to be effective\n",
        "model = XGBClassifier(objective= 'reg:tweedie')\n",
        "params = {'max_depth':[2,3,4,5,6,7,8],'n_estimators':[50,100,200,400],'eta':[0.1,0.2,0.4,0.5,0.8]}\n",
        "random_cl = RandomizedSearchCV(model,params,scoring= 'accuracy',cv=kfold,)\n",
        "random_cl.fit(X_train,y_train)\n",
        "#Shows the best parameters\n",
        "best_params = random_cl.best_params_\n",
        "# Shows best score\n",
        "scores = random_cl.best_score_\n",
        "print(best_params)\n",
        "print(scores)\n"
      ],
      "metadata": {
        "colab": {
          "base_uri": "https://localhost:8080/"
        },
        "id": "RtWdG7vanWQx",
        "outputId": "9dbc7427-8162-4db5-a92d-a01c4b5af3fa"
      },
      "execution_count": null,
      "outputs": [
        {
          "output_type": "stream",
          "name": "stdout",
          "text": [
            "{'n_estimators': 400, 'max_depth': 3, 'eta': 0.4}\n",
            "0.9806716214254143\n"
          ]
        }
      ]
    },
    {
      "cell_type": "markdown",
      "source": [
        "## Machine Learning Models"
      ],
      "metadata": {
        "id": "YUUqHBAUY6I1"
      }
    },
    {
      "cell_type": "code",
      "source": [
        "#Logistic Regression\n",
        "model = LogisticRegression()\n",
        "model.fit(X_train,y_train)\n",
        "y_pred=model.predict(X_test)\n",
        "print(accuracy_score(y_test,y_pred))\n",
        "print(recall_score(y_test,y_pred))\n",
        "tn, fp, fn, tp = confusion_matrix(y_test,y_pred).ravel()\n",
        "print(tn, fp, fn, tp)\n",
        "LogisticRegression_F1Score = f1_score(y_test,y_pred)\n",
        "LogisticRegression_ROCscore = roc_auc_score(y_test,y_pred)\n",
        "print(LogisticRegression_F1Score)\n",
        "print(LogisticRegression_ROCscore)"
      ],
      "metadata": {
        "id": "Y75LufLYp8kz",
        "colab": {
          "base_uri": "https://localhost:8080/"
        },
        "outputId": "66c07eb3-24b2-4c92-eb1e-449753f80d8f"
      },
      "execution_count": null,
      "outputs": [
        {
          "output_type": "stream",
          "name": "stdout",
          "text": [
            "0.9606095652765494\n",
            "0.9876543209876543\n",
            "28160 1157 1 80\n",
            "0.12139605462822459\n",
            "0.974094582126327\n"
          ]
        }
      ]
    },
    {
      "cell_type": "code",
      "source": [
        "#KNeighbors Classifier\n",
        "model2 = KNeighborsClassifier()\n",
        "model2.fit(X_train,y_train)\n",
        "y_pred=model2.predict(X_test)\n",
        "print(accuracy_score(y_test,y_pred))\n",
        "print(recall_score(y_test,y_pred))\n",
        "tn, fp, fn, tp = confusion_matrix(y_test,y_pred).ravel()\n",
        "print(tn, fp, fn, tp)\n",
        "KNeighborsClassifier_F1Score = f1_score(y_test,y_pred)\n",
        "KNeighborsClassifier_ROCscore = roc_auc_score(y_test,y_pred)\n",
        "print(KNeighborsClassifier_F1Score)\n",
        "print(KNeighborsClassifier_ROCscore)"
      ],
      "metadata": {
        "colab": {
          "base_uri": "https://localhost:8080/"
        },
        "id": "UXxxAt70EtJt",
        "outputId": "d7be1770-48e2-4775-a941-47395083768b"
      },
      "execution_count": null,
      "outputs": [
        {
          "output_type": "stream",
          "name": "stdout",
          "text": [
            "0.9606095652765494\n",
            "0.9876543209876543\n",
            "28160 1157 1 80\n",
            "0.12139605462822459\n",
            "0.974094582126327\n"
          ]
        }
      ]
    },
    {
      "cell_type": "code",
      "source": [
        "#Decision Tree Classifier\n",
        "model3 = DecisionTreeClassifier(max_depth= None,min_samples_leaf = 7,min_samples_split= 2,min_weight_fraction_leaf=0.2,)\n",
        "model3.fit(X_train,y_train)\n",
        "y_pred=model3.predict(X_test)\n",
        "print(accuracy_score(y_test,y_pred))\n",
        "print(recall_score(y_test,y_pred))\n",
        "tn, fp, fn, tp = confusion_matrix(y_test,y_pred).ravel()\n",
        "print(tn, fp, fn, tp)\n",
        "DecisionTreeClassifier_F1Score = f1_score(y_test,y_pred)\n",
        "DecisionTreeClassifier_ROCscore = roc_auc_score(y_test,y_pred)\n",
        "print(DecisionTreeClassifier_F1Score)\n",
        "print(DecisionTreeClassifier_ROCscore)"
      ],
      "metadata": {
        "colab": {
          "base_uri": "https://localhost:8080/"
        },
        "id": "TGSbxXA3ILDG",
        "outputId": "424d8b2b-a2c3-4946-f4c5-c6496d231ca6"
      },
      "execution_count": null,
      "outputs": [
        {
          "output_type": "stream",
          "name": "stdout",
          "text": [
            "0.9606095652765494\n",
            "0.9876543209876543\n",
            "28160 1157 1 80\n",
            "0.12139605462822459\n",
            "0.974094582126327\n"
          ]
        }
      ]
    },
    {
      "cell_type": "code",
      "source": [
        "#Random Forest Classifier\n",
        "model4 = RandomForestClassifier()\n",
        "model4.fit(X_train,y_train)\n",
        "y_pred=model4.predict(X_test)\n",
        "print(accuracy_score(y_test,y_pred))\n",
        "print(recall_score(y_test,y_pred))\n",
        "tn, fp, fn, tp = confusion_matrix(y_test,y_pred).ravel()\n",
        "print(tn, fp, fn, tp)\n",
        "RandomForestClassifier_F1Score = f1_score(y_test,y_pred)\n",
        "RandomForestClassifier_ROCscore = roc_auc_score(y_test,y_pred)\n",
        "print(RandomForestClassifier_F1Score)\n",
        "print(RandomForestClassifier_ROCscore)"
      ],
      "metadata": {
        "colab": {
          "base_uri": "https://localhost:8080/"
        },
        "id": "MJiNfVC7JH_4",
        "outputId": "88d7dc1b-2e7e-42ab-d4ed-fc267e20702d"
      },
      "execution_count": null,
      "outputs": [
        {
          "output_type": "stream",
          "name": "stdout",
          "text": [
            "0.9606095652765494\n",
            "0.9876543209876543\n",
            "28160 1157 1 80\n",
            "0.12139605462822459\n",
            "0.974094582126327\n"
          ]
        }
      ]
    },
    {
      "cell_type": "code",
      "source": [
        "#XGB Classifier\n",
        "model6 = XGBClassifier(max_depth = 3,n_estimators = 400, eta = 0.4)\n",
        "model6.fit(X_train,y_train)\n",
        "y_pred=model6.predict(X_test)\n",
        "print(accuracy_score(y_test,y_pred))\n",
        "print(recall_score(y_test,y_pred))\n",
        "tn, fp, fn, tp = confusion_matrix(y_test,y_pred).ravel()\n",
        "print(tn, fp, fn, tp)\n",
        "tn, fp, fn, tp = confusion_matrix(y_test,y_pred).ravel()\n",
        "print(tn, fp, fn, tp)\n",
        "results_df = pd.DataFrame()\n",
        "results_df['true'] = y_test.copy(deep = True)\n",
        "results_df['prediction'] = copy.deepcopy(y_pred)\n",
        "false_over_predictions = sum(results_df.groupby('playerID').sum().query('true == 1 and prediction > 1')['prediction'])\n",
        "true_over_predictions = sum(results_df.groupby('playerID').sum().query('true == 1 and prediction > 1')['true'])\n",
        "print(false_over_predictions - true_over_predictions)\n",
        "XGBClassifier_F1Score = f1_score(y_test,y_pred)\n",
        "XGBClassifier_ROCscore = roc_auc_score(y_test,y_pred)\n",
        "print(XGBClassifier_F1Score)\n",
        "print(XGBClassifier_ROCscore)"
      ],
      "metadata": {
        "colab": {
          "base_uri": "https://localhost:8080/"
        },
        "id": "gwD1G8iiaBtS",
        "outputId": "39f3f5d4-8fd2-4b8e-9f7c-3c5151fa51ca"
      },
      "execution_count": null,
      "outputs": [
        {
          "output_type": "stream",
          "name": "stdout",
          "text": [
            "0.9606095652765494\n",
            "0.9876543209876543\n",
            "28160 1157 1 80\n",
            "28160 1157 1 80\n",
            "96\n",
            "0.12139605462822459\n",
            "0.974094582126327\n"
          ]
        }
      ]
    },
    {
      "cell_type": "code",
      "source": [
        "#Plotting the Comfusion Matrix\n",
        "fig,ax = plt.pyplot.subplots(figsize = (8,5))\n",
        "cmp = ConfusionMatrixDisplay(confusion_matrix(y_test,y_pred),display_labels = ['Not HOF', 'HOF'])\n",
        "cmp.plot(ax = ax)\n",
        "plt.pyplot.savefig('/content/drive/MyDrive/archive (1)/confusion_matrix_heatmap.png',dpi=300)\n",
        "plt.pyplot.show()"
      ],
      "metadata": {
        "colab": {
          "base_uri": "https://localhost:8080/",
          "height": 334
        },
        "id": "GM6chS6PcPjB",
        "outputId": "04656029-3018-4738-e4ab-fa11573271d4"
      },
      "execution_count": null,
      "outputs": [
        {
          "output_type": "display_data",
          "data": {
            "text/plain": [
              "<Figure size 576x360 with 2 Axes>"
            ],
            "image/png": "[encoded data removed]"
          },
          "metadata": {
            "needs_background": "light"
          }
        }
      ]
    },
    {
      "cell_type": "code",
      "source": [
        "plt.pyplot.title('F1 Scores')\n",
        "plt.pyplot.xticks(rotation='vertical')\n",
        "plt.pyplot.bar(x=['XGBClassifier_F1Score','RandomForestClassifier_F1Score','DecisionTreeClassifier_F1Score','KNeighborsClassifier_F1Score','LogisticRegression_F1Score'],\n",
        "               height =np.array([XGBClassifier_F1Score,RandomForestClassifier_F1Score,DecisionTreeClassifier_F1Score,KNeighborsClassifier_F1Score,LogisticRegression_F1Score])-0.08, bottom =0.08 )\n",
        "plt.pyplot.yticks(np.arange(0.08,0.13,step = 0.008))\n",
        "plt.pyplot.savefig('/content/drive/MyDrive/archive (1)/F1_scores.png',dpi=300)\n",
        "plt.pyplot.show()"
      ],
      "metadata": {
        "id": "kjClP1Vbvakr",
        "colab": {
          "base_uri": "https://localhost:8080/",
          "height": 434
        },
        "outputId": "cd36e0c1-8ccf-4bc8-a892-00f1e3129b29"
      },
      "execution_count": null,
      "outputs": [
        {
          "output_type": "display_data",
          "data": {
            "text/plain": [
              "<Figure size 432x288 with 1 Axes>"
            ],
            "image/png": "[encoded data removed]"
          },
          "metadata": {
            "needs_background": "light"
          }
        }
      ]
    },
    {
      "cell_type": "code",
      "source": [
        "plt.pyplot.title('ROC Scores')\n",
        "plt.pyplot.xticks(rotation='vertical')\n",
        "plt.pyplot.bar(x=['XGBClassifier_ROCscore','RandomForestClassifier_ROCscore','DecisionTreeClassifier_ROCscore','KNeighborsClassifier_ROCscore','LogisticRegression_ROCscore'],\n",
        "               height =np.array([XGBClassifier_ROCscore, RandomForestClassifier_ROCscore,DecisionTreeClassifier_ROCscore,KNeighborsClassifier_ROCscore,LogisticRegression_ROCscore])-0.9,bottom = 0.9)\n",
        "plt.pyplot.yticks(np.arange(0.9,1,step = 0.015))\n",
        "plt.pyplot.savefig('/content/drive/MyDrive/archive (1)/ROC_score.png',dpi=300)\n",
        "plt.pyplot.show()"
      ],
      "metadata": {
        "colab": {
          "base_uri": "https://localhost:8080/",
          "height": 442
        },
        "id": "BcfJjhrFIgyv",
        "outputId": "20681324-bf95-40fd-9f67-4cf465f4ea3c"
      },
      "execution_count": null,
      "outputs": [
        {
          "output_type": "display_data",
          "data": {
            "text/plain": [
              "<Figure size 432x288 with 1 Axes>"
            ],
            "image/png": "[encoded data removed]"
          },
          "metadata": {
            "needs_background": "light"
          }
        }
      ]
    },
    {
      "cell_type": "code",
      "source": [
        "plt.pyplot.title('ROC Scores')\n",
        "plt.pyplot.xticks(rotation='vertical')\n",
        "plt.pyplot.bar(x=['XGBClassifier_ROCscore','RandomForestClassifier_ROCscore'],\n",
        "               height =np.array([XGBClassifier_ROCscore, RandomForestClassifier_ROCscore])-0.9,bottom = 0.9)\n",
        "plt.pyplot.yticks(np.arange(0.9,1,step = 0.015))\n",
        "plt.pyplot.savefig('/content/drive/MyDrive/archive (1)/ROC_comparasion.png',dpi=300)\n",
        "plt.pyplot.show()"
      ],
      "metadata": {
        "colab": {
          "base_uri": "https://localhost:8080/",
          "height": 442
        },
        "id": "fCFe7amzyXgN",
        "outputId": "f4f88bd6-1bd5-42f9-bec0-759be5dca30a"
      },
      "execution_count": null,
      "outputs": [
        {
          "output_type": "display_data",
          "data": {
            "text/plain": [
              "<Figure size 432x288 with 1 Axes>"
            ],
            "image/png": "[encoded data removed]"
          },
          "metadata": {
            "needs_background": "light"
          }
        }
      ]
    },
    {
      "cell_type": "code",
      "source": [
        "plt.pyplot.title('F1 Scores')\n",
        "plt.pyplot.xticks(rotation='vertical')\n",
        "plt.pyplot.bar(x=['XGBClassifier_F1Score','RandomForestClassifier_F1Score'],\n",
        "               height =np.array([XGBClassifier_F1Score,RandomForestClassifier_F1Score])-0.08, bottom =0.08 )\n",
        "plt.pyplot.yticks(np.arange(0.08,0.13,step = 0.008))\n",
        "plt.pyplot.savefig('/content/drive/MyDrive/archive (1)/F1_comparasion.png',dpi=300)\n",
        "plt.pyplot.show()"
      ],
      "metadata": {
        "colab": {
          "base_uri": "https://localhost:8080/",
          "height": 434
        },
        "id": "o-O3pdtVyuF8",
        "outputId": "c64dfb6f-3c80-4a46-b5b4-bd8bd902d5b4"
      },
      "execution_count": null,
      "outputs": [
        {
          "output_type": "display_data",
          "data": {
            "text/plain": [
              "<Figure size 432x288 with 1 Axes>"
            ],
            "image/png": "[encoded data removed]"
          },
          "metadata": {
            "needs_background": "light"
          }
        }
      ]
    },
    {
      "cell_type": "markdown",
      "source": [
        "## Nerual Networks"
      ],
      "metadata": {
        "id": "0ftihVaSexgV"
      }
    },
    {
      "cell_type": "code",
      "source": [
        "# Setting up the model\n",
        "sample_optimizer = keras.optimizers.Adam(learning_rate=0.01)\n",
        "early_stopping_condition = keras.callbacks.EarlyStopping(monitor='val_loss', mode='auto', patience=15) # Stop the ML training after (patience) number of epochs without improvement\n",
        "plateau_monitor = keras.callbacks.ReduceLROnPlateau(monitor='val_loss', mode='auto', patience=5, factor=0.3, min_lr=0.00000001,min_delta = 0.000001) # Adjusts the learning rate of the ML after (patience) number of epochs without improvement\n",
        "sample_loss = keras.losses.BinaryCrossentropy() # For classifier use BinaryCrossentropy() or CategoricalCrossentropy() for 2 or more classes respectively\n",
        "\n",
        "num_outputs = 1\n",
        "model = keras.Sequential()\n",
        "model.add(keras.layers.Dense(16, input_dim=len(X_train.columns), activation='sigmoid'))\n",
        "# model.add(keras.layers.Dense(8, activation='sigmoid'))\n",
        "# model.add(keras.layers.Dense(4, activation='sigmoid'))\n",
        "model.add(keras.layers.Dense(num_outputs, activation='sigmoid')) # Change to 'sigmoid' for classifier"
      ],
      "metadata": {
        "id": "OYKkC_6QewGh"
      },
      "execution_count": null,
      "outputs": []
    },
    {
      "cell_type": "code",
      "source": [
        "# Relu\n",
        "sample_optimizer = keras.optimizers.Adam(learning_rate=0.01)\n",
        "early_stopping_condition = keras.callbacks.EarlyStopping(monitor='val_loss', mode='auto', patience=15) # Stop the ML training after (patience) number of epochs without improvement\n",
        "plateau_monitor = keras.callbacks.ReduceLROnPlateau(monitor='val_loss', mode='auto', patience=5, factor=0.3, min_lr=0.00000001,min_delta = 0.000001) # Adjusts the learning rate of the ML after (patience) number of epochs without improvement\n",
        "sample_loss = keras.losses.BinaryCrossentropy() # For classifier use BinaryCrossentropy() or CategoricalCrossentropy() for 2 or more classes respectively\n",
        "\n",
        "num_outputs = 1\n",
        "model = keras.Sequential()\n",
        "model.add(keras.layers.Dense(16, input_dim=len(X_train.columns), activation='relu'))\n",
        "model.add(keras.layers.Dense(8, activation='relu'))\n",
        "model.add(keras.layers.Dense(4, activation='relu'))\n",
        "model.add(keras.layers.Dense(num_outputs, activation='sigmoid')) # Change to 'sigmoid' for classifier"
      ],
      "metadata": {
        "id": "80I567LNyZyk"
      },
      "execution_count": null,
      "outputs": []
    },
    {
      "cell_type": "code",
      "source": [
        "model.compile(loss=sample_loss, optimizer=sample_optimizer)\n",
        "history = model.fit(X_train, y_train, epochs=75, callbacks=[early_stopping_condition, plateau_monitor], validation_data=(X_test, y_test))"
      ],
      "metadata": {
        "colab": {
          "base_uri": "https://localhost:8080/"
        },
        "id": "T95_nVShgXAX",
        "outputId": "f5096c92-1766-40fa-ef57-e631bef7d791"
      },
      "execution_count": null,
      "outputs": [
        {
          "output_type": "stream",
          "name": "stdout",
          "text": [
            "Epoch 1/75\n",
            "4274/4274 [==============================] - 9s 2ms/step - loss: 0.2008 - val_loss: 0.1453 - lr: 0.0100\n",
            "Epoch 2/75\n",
            "4274/4274 [==============================] - 8s 2ms/step - loss: 0.0980 - val_loss: 0.1347 - lr: 0.0100\n",
            "Epoch 3/75\n",
            "4274/4274 [==============================] - 10s 2ms/step - loss: 0.0986 - val_loss: 0.1357 - lr: 0.0100\n",
            "Epoch 4/75\n",
            "4274/4274 [==============================] - 8s 2ms/step - loss: 0.0976 - val_loss: 0.1478 - lr: 0.0100\n",
            "Epoch 5/75\n",
            "4274/4274 [==============================] - 8s 2ms/step - loss: 0.0976 - val_loss: 0.1262 - lr: 0.0100\n",
            "Epoch 6/75\n",
            "4274/4274 [==============================] - 8s 2ms/step - loss: 0.0975 - val_loss: 0.1340 - lr: 0.0100\n",
            "Epoch 7/75\n",
            "4274/4274 [==============================] - 8s 2ms/step - loss: 0.0975 - val_loss: 0.1457 - lr: 0.0100\n",
            "Epoch 8/75\n",
            "4274/4274 [==============================] - 8s 2ms/step - loss: 0.0975 - val_loss: 0.1224 - lr: 0.0100\n",
            "Epoch 9/75\n",
            "4274/4274 [==============================] - 8s 2ms/step - loss: 0.0975 - val_loss: 0.1218 - lr: 0.0100\n",
            "Epoch 10/75\n",
            "4274/4274 [==============================] - 8s 2ms/step - loss: 0.0974 - val_loss: 0.1406 - lr: 0.0100\n",
            "Epoch 11/75\n",
            "4274/4274 [==============================] - 8s 2ms/step - loss: 0.0972 - val_loss: 0.1410 - lr: 0.0100\n",
            "Epoch 12/75\n",
            "4274/4274 [==============================] - 8s 2ms/step - loss: 0.0973 - val_loss: 0.1308 - lr: 0.0100\n",
            "Epoch 13/75\n",
            "4274/4274 [==============================] - 8s 2ms/step - loss: 0.0973 - val_loss: 0.1400 - lr: 0.0100\n",
            "Epoch 14/75\n",
            "4274/4274 [==============================] - 8s 2ms/step - loss: 0.0972 - val_loss: 0.1321 - lr: 0.0100\n",
            "Epoch 15/75\n",
            "4274/4274 [==============================] - 8s 2ms/step - loss: 0.0970 - val_loss: 0.1283 - lr: 0.0030\n",
            "Epoch 16/75\n",
            "4274/4274 [==============================] - 8s 2ms/step - loss: 0.0970 - val_loss: 0.1279 - lr: 0.0030\n",
            "Epoch 17/75\n",
            "4274/4274 [==============================] - 9s 2ms/step - loss: 0.0970 - val_loss: 0.1333 - lr: 0.0030\n",
            "Epoch 18/75\n",
            "4274/4274 [==============================] - 8s 2ms/step - loss: 0.0970 - val_loss: 0.1366 - lr: 0.0030\n",
            "Epoch 19/75\n",
            "4274/4274 [==============================] - 8s 2ms/step - loss: 0.0969 - val_loss: 0.1279 - lr: 0.0030\n",
            "Epoch 20/75\n",
            "4274/4274 [==============================] - 8s 2ms/step - loss: 0.0969 - val_loss: 0.1309 - lr: 9.0000e-04\n",
            "Epoch 21/75\n",
            "4274/4274 [==============================] - 8s 2ms/step - loss: 0.0969 - val_loss: 0.1286 - lr: 9.0000e-04\n",
            "Epoch 22/75\n",
            "4274/4274 [==============================] - 8s 2ms/step - loss: 0.0969 - val_loss: 0.1362 - lr: 9.0000e-04\n",
            "Epoch 23/75\n",
            "4274/4274 [==============================] - 8s 2ms/step - loss: 0.0969 - val_loss: 0.1322 - lr: 9.0000e-04\n",
            "Epoch 24/75\n",
            "4274/4274 [==============================] - 8s 2ms/step - loss: 0.0969 - val_loss: 0.1333 - lr: 9.0000e-04\n"
          ]
        }
      ]
    },
    {
      "cell_type": "code",
      "source": [
        "#Shows loss over number of epochs\n",
        "plt.pyplot.figure()\n",
        "plt.pyplot.plot(history.history['val_loss'], label = 'testing loss')\n",
        "plt.pyplot.plot(history.history['loss'], label = 'training loss')\n",
        "plt.pyplot.xlabel('Epoch')\n",
        "plt.pyplot.ylabel('Loss')\n",
        "plt.pyplot.yscale('log')\n",
        "plt.pyplot.legend()"
      ],
      "metadata": {
        "colab": {
          "base_uri": "https://localhost:8080/",
          "height": 296
        },
        "id": "lWJ0PTHlhSNa",
        "outputId": "c14166e7-4d6f-4cf5-a520-160d428c3eb1"
      },
      "execution_count": null,
      "outputs": [
        {
          "output_type": "execute_result",
          "data": {
            "text/plain": [
              "<matplotlib.legend.Legend at 0x7f357e4bf610>"
            ]
          },
          "metadata": {},
          "execution_count": 45
        },
        {
          "output_type": "display_data",
          "data": {
            "text/plain": [
              "<Figure size 432x288 with 1 Axes>"
            ],
            "image/png": "[encoded data removed]"
          },
          "metadata": {
            "needs_background": "light"
          }
        }
      ]
    },
    {
      "cell_type": "code",
      "source": [
        "prediction = model.predict(X_test)\n",
        "rounded_prediction = np.round(prediction)\n",
        "rounded_prediction = np.round(prediction)\n",
        "tn, fp, fn, tp = confusion_matrix(y_test,rounded_prediction).ravel()\n",
        "print(tn, fp, fn, tp)\n"
      ],
      "metadata": {
        "id": "j0XwHcuPh589",
        "colab": {
          "base_uri": "https://localhost:8080/"
        },
        "outputId": "512f0f22-dcdf-4a1d-891c-b035e31ddfe1"
      },
      "execution_count": null,
      "outputs": [
        {
          "output_type": "stream",
          "name": "stdout",
          "text": [
            "28159 1151 0 88\n"
          ]
        }
      ]
    },
    {
      "cell_type": "code",
      "source": [
        "print(X_test.columns)"
      ],
      "metadata": {
        "colab": {
          "base_uri": "https://localhost:8080/"
        },
        "id": "0k5685Ri1x6I",
        "outputId": "470ca2a5-1cd3-40c4-e1ef-d394be989333"
      },
      "execution_count": null,
      "outputs": [
        {
          "output_type": "stream",
          "name": "stdout",
          "text": [
            "Index(['AB', '2B', '3B', 'RBI', 'Caught_Stealing(batter)', 'G(batting)',\n",
            "       'R(batting)', 'Hits', 'Home Runs', 'Bases Stolen', 'Walked',\n",
            "       'Strike Outs', 'Walked(intentionally)', 'Hit by Pitch', 'Sacrifice Fly',\n",
            "       'Sacrifice Hit', 'Ground out into Double Play', 'InnOuts', 'PO', 'A',\n",
            "       'E', 'DP', 'PB', 'ZR', 'Runners_Caught_Stealing(fielder)',\n",
            "       'G(fielding)', 'Stolen Bases Allowed', 'Games Started(Fielding)',\n",
            "       'Wild Pitch(fielding)', 'W', 'L', 'CG', 'SHO', 'SV', 'IPouts', 'ER',\n",
            "       'BAOpp', 'BK', 'BFP', 'GF', 'G(pitching)', 'R(pitching)',\n",
            "       'Hits_Allowed', 'Home Runes Allowed', 'Walks Allowed',\n",
            "       'Batters Struck Out', 'Walks Allowed (intentionally)', 'Batters Hit',\n",
            "       'Sacrifice Flies Allowed', 'Sacrifice Hits Allowed',\n",
            "       'Ground out into Double Play(pitcher)', 'Games Started(Pitching)',\n",
            "       'Wild Pitch(pitcher)', 'ERA'],\n",
            "      dtype='object')\n"
          ]
        }
      ]
    },
    {
      "cell_type": "code",
      "source": [
        "custom_threshold = 0.96\n",
        "custom_prediction = abs(np.round(prediction - custom_threshold + 0.5))\n",
        "tn, fp, fn, tp = confusion_matrix(y_test,custom_prediction).ravel()\n",
        "print(tn, fp, fn, tp)\n",
        "# print(np.unique(prediction))\n",
        "# y_test['prediction'] = custom_prediction\n",
        "# print(y_test['prediction'])\n",
        "results_df = pd.DataFrame()\n",
        "results_df['true'] = y_test.copy(deep = True)\n",
        "results_df['prediction'] = copy.deepcopy(custom_prediction)\n",
        "print(results_df.query('true == 1 and prediction == 1').sort_values(by = 'playerID'))\n",
        "print(results_df.query('true == 0 and prediction == 1').sort_values(by = 'playerID'))\n",
        "print(results_df.groupby('playerID').sum().query('true == 1 and prediction > 1'))\n",
        "false_over_predictions = sum(results_df.groupby('playerID').sum().query('true == 1 and prediction > 1')['prediction'])\n",
        "true_over_predictions = sum(results_df.groupby('playerID').sum().query('true == 1 and prediction > 1')['true'])\n",
        "print(false_over_predictions - true_over_predictions)"
      ],
      "metadata": {
        "colab": {
          "base_uri": "https://localhost:8080/"
        },
        "id": "vLEWvgPHv00d",
        "outputId": "fe840339-be19-43e6-8934-82ff60638fab"
      },
      "execution_count": null,
      "outputs": [
        {
          "output_type": "stream",
          "name": "stdout",
          "text": [
            "28159 1151 0 88\n",
            "                  true  prediction\n",
            "playerID  yearID                  \n",
            "alexape01 1938       1         1.0\n",
            "alomaro01 2011       1         1.0\n",
            "alstowa01 1983       1         1.0\n",
            "andersp01 2000       1         1.0\n",
            "aparilu01 1984       1         1.0\n",
            "...                ...         ...\n",
            "whiteso99 2006       1         1.0\n",
            "willidi02 2008       1         1.0\n",
            "willite01 1966       1         1.0\n",
            "willivi01 1995       1         1.0\n",
            "youngro01 1972       1         1.0\n",
            "\n",
            "[88 rows x 2 columns]\n",
            "                  true  prediction\n",
            "playerID  yearID                  \n",
            "adamsba01 1937       0         1.0\n",
            "          1939       0         1.0\n",
            "alexape01 1936       0         1.0\n",
            "allendi01 1985       0         1.0\n",
            "          1987       0         1.0\n",
            "...                ...         ...\n",
            "youngro01 1947       0         1.0\n",
            "          1939       0         1.0\n",
            "          1936       0         1.0\n",
            "zimmech01 1938       0         1.0\n",
            "ziskri01  1989       0         1.0\n",
            "\n",
            "[1151 rows x 2 columns]\n",
            "           true  prediction\n",
            "playerID                   \n",
            "alexape01     1         2.0\n",
            "alomaro01     1         2.0\n",
            "aparilu01     1         2.0\n",
            "applilu01     1         2.0\n",
            "ashburi01     1         5.0\n",
            "blylebe01     1         8.0\n",
            "bottoji01     1         5.0\n",
            "careyma01     1         4.0\n",
            "clarkfr01     1         3.0\n",
            "cochrmi01     1         5.0\n",
            "colliji01     1         3.0\n",
            "combsea01     1         9.0\n",
            "dawsoan01     1         2.0\n",
            "deandi01      1         6.0\n",
            "dickebi01     1         4.0\n",
            "dobyla01      1         2.0\n",
            "doerrbo01     1         5.0\n",
            "duffyhu01     1         2.0\n",
            "eversjo01     1         4.0\n",
            "ferreri01     1         3.0\n",
            "fingero01     1         2.0\n",
            "friscfr01     1         4.0\n",
            "hamilbi01     1         2.0\n",
            "hoopeha01     1         2.0\n",
            "hoytwa01      1         5.0\n",
            "hubbeca01     1         2.0\n",
            "huggimi01     1         6.0\n",
            "jossad01      1         3.0\n",
            "kellge01      1         8.0\n",
            "kinerra01     1         5.0\n",
            "maranra01     1         6.0\n",
            "mccarjo99     1         4.0\n",
            "mcginjo01     1         4.0\n",
            "mckecbi01     1         4.0\n",
            "medwijo01     1         5.0\n",
            "nichoki01     1         2.0\n",
            "ricesa01      1         4.0\n",
            "snidedu01     1         4.0\n",
            "terrybi01     1         6.0\n",
            "tinkejo01     1         4.0\n",
            "youngro01     1         7.0\n",
            "126.0\n"
          ]
        }
      ]
    },
    {
      "cell_type": "code",
      "source": [
        "sklearn.metrics.mean_absolute_error(y_test, prediction)"
      ],
      "metadata": {
        "colab": {
          "base_uri": "https://localhost:8080/"
        },
        "id": "qvBd98vKiSxR",
        "outputId": "6e4756b3-4bca-41bd-df73-11a0feaddabe"
      },
      "execution_count": null,
      "outputs": [
        {
          "output_type": "execute_result",
          "data": {
            "text/plain": [
              "0.04234945"
            ]
          },
          "metadata": {},
          "execution_count": 49
        }
      ]
    }
  ]
}